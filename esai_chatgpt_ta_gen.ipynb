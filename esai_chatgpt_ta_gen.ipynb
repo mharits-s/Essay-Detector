{
 "cells": [
  {
   "cell_type": "markdown",
   "id": "f1c420cd",
   "metadata": {},
   "source": [
    "# Load Libraries"
   ]
  },
  {
   "cell_type": "code",
   "execution_count": 1,
   "id": "f4973c71",
   "metadata": {},
   "outputs": [],
   "source": [
    "from openai import OpenAI\n",
    "from dotenv import load_dotenv\n",
    "import pandas as pd\n",
    "import time\n",
    "import os\n",
    "import re"
   ]
  },
  {
   "cell_type": "markdown",
   "id": "d62b042c",
   "metadata": {},
   "source": [
    "# Load API and Responses"
   ]
  },
  {
   "cell_type": "code",
   "execution_count": 2,
   "id": "a7f5cca0",
   "metadata": {},
   "outputs": [],
   "source": [
    "load_dotenv()\n",
    "api_key = os.getenv(\"API_KEY\")\n",
    "client = OpenAI(api_key=api_key)\n",
    "responses = []"
   ]
  },
  {
   "cell_type": "markdown",
   "id": "4ca11da7",
   "metadata": {},
   "source": [
    "# Generate ChatGPT Essays"
   ]
  },
  {
   "cell_type": "code",
   "execution_count": 3,
   "id": "9f058294",
   "metadata": {},
   "outputs": [
    {
     "name": "stdout",
     "output_type": "stream",
     "text": [
      "Essay 1 completed\n",
      "Essay 2 completed\n",
      "Essay 3 completed\n",
      "Essay 4 completed\n",
      "Essay 5 completed\n",
      "Essay 6 completed\n",
      "Essay 7 completed\n",
      "Essay 8 completed\n",
      "Essay 9 completed\n",
      "Essay 10 completed\n",
      "Essay 11 completed\n",
      "Essay 12 completed\n",
      "Essay 13 completed\n",
      "Essay 14 completed\n",
      "Essay 15 completed\n",
      "Essay 16 completed\n",
      "Essay 17 completed\n",
      "Essay 18 completed\n",
      "Essay 19 completed\n",
      "Essay 20 completed\n",
      "Essay 21 completed\n",
      "Essay 22 completed\n",
      "Essay 23 completed\n",
      "Essay 24 completed\n",
      "Essay 25 completed\n",
      "Essay 26 completed\n",
      "Essay 27 completed\n",
      "Essay 28 completed\n",
      "Essay 29 completed\n",
      "Essay 30 completed\n",
      "Essay 31 completed\n",
      "Essay 32 completed\n",
      "Essay 33 completed\n",
      "Essay 34 completed\n",
      "Essay 35 completed\n",
      "Essay 36 completed\n",
      "Essay 37 completed\n",
      "Essay 38 completed\n",
      "Essay 39 completed\n",
      "Essay 40 completed\n",
      "Essay 41 completed\n",
      "Essay 42 completed\n",
      "Essay 43 completed\n",
      "Essay 44 completed\n",
      "Essay 45 completed\n",
      "Essay 46 completed\n",
      "Essay 47 completed\n",
      "Essay 48 completed\n",
      "Essay 49 completed\n",
      "Essay 50 completed\n",
      "Essay 51 completed\n",
      "Essay 52 completed\n",
      "Essay 53 completed\n",
      "Essay 54 completed\n",
      "Essay 55 completed\n",
      "Essay 56 completed\n",
      "Essay 57 completed\n",
      "Essay 58 completed\n",
      "Essay 59 completed\n",
      "Essay 60 completed\n",
      "Essay 61 completed\n",
      "Essay 62 completed\n",
      "Essay 63 completed\n",
      "Essay 64 completed\n",
      "Essay 65 completed\n",
      "Essay 66 completed\n",
      "Essay 67 completed\n",
      "Essay 68 completed\n",
      "Essay 69 completed\n",
      "Essay 70 completed\n",
      "Essay 71 completed\n",
      "Essay 72 completed\n",
      "Essay 73 completed\n",
      "Essay 74 completed\n",
      "Essay 75 completed\n",
      "Essay 76 completed\n",
      "Essay 77 completed\n",
      "Essay 78 completed\n",
      "Essay 79 completed\n",
      "Essay 80 completed\n",
      "Essay 81 completed\n",
      "Essay 82 completed\n",
      "Essay 83 completed\n",
      "Essay 84 completed\n",
      "Essay 85 completed\n",
      "Essay 86 completed\n",
      "Essay 87 completed\n",
      "Essay 88 completed\n",
      "Essay 89 completed\n",
      "Essay 90 completed\n",
      "Essay 91 completed\n",
      "Essay 92 completed\n",
      "Essay 93 completed\n",
      "Essay 94 completed\n",
      "Essay 95 completed\n",
      "Essay 96 completed\n",
      "Essay 97 completed\n",
      "Essay 98 completed\n",
      "Essay 99 completed\n",
      "Essay 100 completed\n",
      "Essay 101 completed\n",
      "Essay 102 completed\n",
      "Essay 103 completed\n",
      "Essay 104 completed\n",
      "Essay 105 completed\n",
      "Essay 106 completed\n",
      "Essay 107 completed\n",
      "Essay 108 completed\n",
      "Essay 109 completed\n",
      "Essay 110 completed\n",
      "Essay 111 completed\n",
      "Essay 112 completed\n",
      "Essay 113 completed\n",
      "Essay 114 completed\n",
      "Essay 115 completed\n",
      "Essay 116 completed\n",
      "Essay 117 completed\n",
      "Essay 118 completed\n",
      "Essay 119 completed\n",
      "Essay 120 completed\n",
      "Essay 121 completed\n",
      "Essay 122 completed\n",
      "Essay 123 completed\n",
      "Essay 124 completed\n",
      "Essay 125 completed\n",
      "Essay 126 completed\n",
      "Essay 127 completed\n",
      "Essay 128 completed\n",
      "Essay 129 completed\n",
      "Essay 130 completed\n",
      "Essay 131 completed\n",
      "Essay 132 completed\n",
      "Essay 133 completed\n",
      "Essay 134 completed\n",
      "Essay 135 completed\n",
      "Jawaban berhasil disimpan dalam file esai_gpt_new.csv\n"
     ]
    }
   ],
   "source": [
    "for i in range(135):\n",
    "    try:\n",
    "        response = client.chat.completions.create(\n",
    "        model=\"gpt-4o\",\n",
    "        messages=[\n",
    "            {\n",
    "            \"role\": \"system\",\n",
    "            \"content\": [\n",
    "                {\n",
    "                \"type\": \"text\",\n",
    "                \"text\": \"Bayangkan kamu adalah seorang siswa SMA. Tulis esai secara langsung. Membuat tulisan mengenai pengalaman selama libur Idul Fitri dalam memanfaatkan teknologi. Minimal 350 karakter. Siswa diharapkan dapat membuat tulisan dalam 2-4 paragraf, di masing-masing paragraf terdiri dari 5-8 kalimat. Raw text tanpa bold/italic. \\n\"\n",
    "                }\n",
    "            ]\n",
    "            }\n",
    "        ],\n",
    "        response_format={\n",
    "            \"type\": \"text\"\n",
    "        },\n",
    "        temperature=1,\n",
    "        max_completion_tokens=16384,\n",
    "        top_p=1,\n",
    "        frequency_penalty=0,\n",
    "        presence_penalty=0,\n",
    "        store=False\n",
    "        )\n",
    "        text_response = response.choices[0].message.content\n",
    "\n",
    "        # Saving the response\n",
    "        print(f\"Essay {i+1} completed\")\n",
    "        responses.append(text_response)\n",
    "        time.sleep(1)\n",
    "\n",
    "    except Exception as e:\n",
    "        print(f\"Terjadi kesalahan pada sesi {i+1}: {e}\")\n",
    "        break\n",
    "\n",
    "os.makedirs(\"datasets\", exist_ok=True)\n",
    "\n",
    "# Save the responses to a CSV file\n",
    "df = pd.DataFrame(responses, columns=[\"Response\"])\n",
    "df.to_csv(\"datasets_ta/esai_gpt_new.csv\", index=False)\n",
    "\n",
    "print(\"Jawaban berhasil disimpan dalam file esai_gpt_new.csv\")"
   ]
  },
  {
   "cell_type": "code",
   "execution_count": 4,
   "id": "79c971e4",
   "metadata": {},
   "outputs": [],
   "source": [
    "gptset = pd.read_csv(\"datasets_ta/esai_gpt_new.csv\")"
   ]
  },
  {
   "cell_type": "code",
   "execution_count": 5,
   "id": "bae935ab",
   "metadata": {},
   "outputs": [
    {
     "name": "stdout",
     "output_type": "stream",
     "text": [
      "<class 'pandas.core.frame.DataFrame'>\n",
      "RangeIndex: 135 entries, 0 to 134\n",
      "Data columns (total 1 columns):\n",
      " #   Column    Non-Null Count  Dtype \n",
      "---  ------    --------------  ----- \n",
      " 0   Response  135 non-null    object\n",
      "dtypes: object(1)\n",
      "memory usage: 1.2+ KB\n"
     ]
    }
   ],
   "source": [
    "gptset.info()"
   ]
  },
  {
   "cell_type": "code",
   "execution_count": 6,
   "id": "3546cfe2",
   "metadata": {},
   "outputs": [
    {
     "name": "stdout",
     "output_type": "stream",
     "text": [
      "Last updated: 2025-06-10T10:52:28.137962+07:00\n",
      "\n",
      "Python implementation: CPython\n",
      "Python version       : 3.12.4\n",
      "IPython version      : 8.25.0\n",
      "\n",
      "Compiler    : Clang 14.0.6 \n",
      "OS          : Darwin\n",
      "Release     : 24.0.0\n",
      "Machine     : arm64\n",
      "Processor   : arm\n",
      "CPU cores   : 8\n",
      "Architecture: 64bit\n",
      "\n"
     ]
    }
   ],
   "source": [
    "%load_ext watermark\n",
    "%watermark"
   ]
  }
 ],
 "metadata": {
  "kernelspec": {
   "display_name": "base",
   "language": "python",
   "name": "python3"
  },
  "language_info": {
   "codemirror_mode": {
    "name": "ipython",
    "version": 3
   },
   "file_extension": ".py",
   "mimetype": "text/x-python",
   "name": "python",
   "nbconvert_exporter": "python",
   "pygments_lexer": "ipython3",
   "version": "3.12.4"
  }
 },
 "nbformat": 4,
 "nbformat_minor": 5
}
