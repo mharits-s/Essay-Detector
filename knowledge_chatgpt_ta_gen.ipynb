{
 "cells": [
  {
   "cell_type": "markdown",
   "id": "f1c420cd",
   "metadata": {},
   "source": [
    "# Load Libraries"
   ]
  },
  {
   "cell_type": "code",
   "execution_count": 33,
   "id": "f4973c71",
   "metadata": {},
   "outputs": [],
   "source": [
    "from openai import OpenAI\n",
    "from dotenv import load_dotenv\n",
    "import pandas as pd\n",
    "import time\n",
    "import os\n",
    "import re"
   ]
  },
  {
   "cell_type": "markdown",
   "id": "d62b042c",
   "metadata": {},
   "source": [
    "# Load API and Responses"
   ]
  },
  {
   "cell_type": "code",
   "execution_count": 34,
   "id": "a7f5cca0",
   "metadata": {},
   "outputs": [],
   "source": [
    "load_dotenv()\n",
    "api_key = os.getenv(\"API_KEY\")\n",
    "client = OpenAI(api_key=api_key)"
   ]
  },
  {
   "cell_type": "markdown",
   "id": "4ca11da7",
   "metadata": {},
   "source": [
    "# Generate Pengetahuan ChatGPT: Bab 1"
   ]
  },
  {
   "cell_type": "markdown",
   "id": "e2adaafb",
   "metadata": {},
   "source": [
    "## Bab 1, prompt 1"
   ]
  },
  {
   "cell_type": "code",
   "execution_count": 35,
   "id": "9f058294",
   "metadata": {},
   "outputs": [
    {
     "name": "stdout",
     "output_type": "stream",
     "text": [
      "Essay 1 completed\n",
      "Essay 2 completed\n",
      "Essay 3 completed\n",
      "Essay 4 completed\n",
      "Essay 5 completed\n",
      "Jawaban berhasil disimpan dalam file pengetahuan_gpt_new.csv\n"
     ]
    }
   ],
   "source": [
    "responses = []\n",
    "for i in range(5):\n",
    "    try:\n",
    "        response = client.chat.completions.create(\n",
    "        model=\"gpt-4o\",\n",
    "        messages=[\n",
    "            {\n",
    "            \"role\": \"system\",\n",
    "            \"content\": [\n",
    "                {\n",
    "                \"type\": \"text\",\n",
    "                \"text\": \"Buatkan paragraf informasi min.350 karakter, sesuai Materi kelas X, diharapkan dapat membuat tulisan dalam 2-4 paragraf, di masing-masing paragraf terdiri dari 5-8 kalimat. Raw text tanpa bold/italic/markdown. Jelaskan elemen-elemen penting yang harus ada dalam sebuah perencanaan kerja kelompok yang efektif, termasuk pembagian peran, langkah-langkah penyelesaian tugas, dan perkiraan waktu pengerjaan untuk setiap anggota kelompok.\\n\"\n",
    "                }\n",
    "            ]\n",
    "            }\n",
    "        ],\n",
    "        response_format={\n",
    "            \"type\": \"text\"\n",
    "        },\n",
    "        temperature=1,\n",
    "        max_completion_tokens=16384,\n",
    "        top_p=1,\n",
    "        frequency_penalty=0,\n",
    "        presence_penalty=0,\n",
    "        store=False\n",
    "        )\n",
    "        text_response = response.choices[0].message.content\n",
    "\n",
    "        # Saving the response\n",
    "        print(f\"Essay {i+1} completed\")\n",
    "        responses.append(text_response)\n",
    "        time.sleep(1)\n",
    "\n",
    "    except Exception as e:\n",
    "        print(f\"Terjadi kesalahan pada sesi {i+1}: {e}\")\n",
    "        break\n",
    "\n",
    "os.makedirs(\"datasets\", exist_ok=True)\n",
    "\n",
    "# Save the responses to a CSV file\n",
    "df = pd.DataFrame(responses, columns=[\"Response\"])\n",
    "df[\"Bab\"] = \"Bab 1\"\n",
    "df.to_csv(\"datasets_ta/pengetahuan_gpt_new.csv\", index=False)\n",
    "\n",
    "print(\"Jawaban berhasil disimpan dalam file pengetahuan_gpt_new.csv\")"
   ]
  },
  {
   "cell_type": "markdown",
   "id": "13dfa8ef",
   "metadata": {},
   "source": [
    "## Bab 1, prompt 2"
   ]
  },
  {
   "cell_type": "code",
   "execution_count": 36,
   "id": "1e76864c",
   "metadata": {},
   "outputs": [
    {
     "name": "stdout",
     "output_type": "stream",
     "text": [
      "Essay 1 completed\n",
      "Essay 2 completed\n",
      "Essay 3 completed\n",
      "Essay 4 completed\n",
      "Essay 5 completed\n",
      "Bab 1 berhasil di-append\n"
     ]
    }
   ],
   "source": [
    "responses = []\n",
    "for i in range(5):\n",
    "    try:\n",
    "        response = client.chat.completions.create(\n",
    "        model=\"gpt-4o\",\n",
    "        messages=[\n",
    "            {\n",
    "            \"role\": \"system\",\n",
    "            \"content\": [\n",
    "                {\n",
    "                \"type\": \"text\",\n",
    "                \"text\": \"Buatkan paragraf informasi min.350 karakter, sesuai Materi kelas X, diharapkan dapat membuat tulisan dalam 2-4 paragraf, di masing-masing paragraf terdiri dari 5-8 kalimat. Raw text tanpa bold/italic/markdown. Uraikan praktik-praktik baik dalam mengomunikasikan hasil kerja kelompok, termasuk teknik pembuatan produk visual pendukung seperti infografis dan slide presentasi yang menarik dan informatif.\\n\"\n",
    "                }\n",
    "            ]\n",
    "            }\n",
    "        ],\n",
    "        response_format={\n",
    "            \"type\": \"text\"\n",
    "        },\n",
    "        temperature=1,\n",
    "        max_completion_tokens=16384,\n",
    "        top_p=1,\n",
    "        frequency_penalty=0,\n",
    "        presence_penalty=0,\n",
    "        store=False\n",
    "        )\n",
    "        text_response = response.choices[0].message.content\n",
    "\n",
    "        # Saving the response\n",
    "        print(f\"Essay {i+1} completed\")\n",
    "        responses.append(text_response)\n",
    "        time.sleep(1)\n",
    "\n",
    "    except Exception as e:\n",
    "        print(f\"Terjadi kesalahan pada sesi {i+1}: {e}\")\n",
    "        break\n",
    "\n",
    "os.makedirs(\"datasets\", exist_ok=True)\n",
    "\n",
    "# Save the responses to a CSV file\n",
    "df = pd.DataFrame(responses, columns=[\"Response\"])\n",
    "df[\"Bab\"] = \"Bab 1\"\n",
    "df.to_csv(\"datasets_ta/pengetahuan_gpt_new.csv\", mode='a', header=False, index=False)\n",
    "\n",
    "print(\"Bab 1 berhasil di-append\")"
   ]
  },
  {
   "cell_type": "markdown",
   "id": "8f469d91",
   "metadata": {},
   "source": [
    "## Bab 1, prompt 3"
   ]
  },
  {
   "cell_type": "code",
   "execution_count": 37,
   "id": "380db85a",
   "metadata": {},
   "outputs": [
    {
     "name": "stdout",
     "output_type": "stream",
     "text": [
      "Essay 1 completed\n",
      "Essay 2 completed\n",
      "Essay 3 completed\n",
      "Essay 4 completed\n",
      "Essay 5 completed\n",
      "Bab 1 berhasil di-append\n"
     ]
    }
   ],
   "source": [
    "responses = []\n",
    "for i in range(5):\n",
    "    try:\n",
    "        response = client.chat.completions.create(\n",
    "        model=\"gpt-4o\",\n",
    "        messages=[\n",
    "            {\n",
    "            \"role\": \"system\",\n",
    "            \"content\": [\n",
    "                {\n",
    "                \"type\": \"text\",\n",
    "                \"text\": \"Buatkan paragraf informasi min.350 karakter, sesuai Materi kelas X, diharapkan dapat membuat tulisan dalam 2-4 paragraf, di masing-masing paragraf terdiri dari 5-8 kalimat. Raw text tanpa bold/italic/markdown. Deskripsikan tujuan dan langkah-langkah utama dalam Aktivitas Perencanaan Kegiatan dan bagaimana aktivitas ini melatih siswa dalam menyusun strategi pembagian peran dan tugas secara efisien dalam kerja kelompok.\\n\"\n",
    "                }\n",
    "            ]\n",
    "            }\n",
    "        ],\n",
    "        response_format={\n",
    "            \"type\": \"text\"\n",
    "        },\n",
    "        temperature=1,\n",
    "        max_completion_tokens=16384,\n",
    "        top_p=1,\n",
    "        frequency_penalty=0,\n",
    "        presence_penalty=0,\n",
    "        store=False\n",
    "        )\n",
    "        text_response = response.choices[0].message.content\n",
    "\n",
    "        # Saving the response\n",
    "        print(f\"Essay {i+1} completed\")\n",
    "        responses.append(text_response)\n",
    "        time.sleep(1)\n",
    "\n",
    "    except Exception as e:\n",
    "        print(f\"Terjadi kesalahan pada sesi {i+1}: {e}\")\n",
    "        break\n",
    "\n",
    "os.makedirs(\"datasets\", exist_ok=True)\n",
    "\n",
    "# Save the responses to a CSV file\n",
    "df = pd.DataFrame(responses, columns=[\"Response\"])\n",
    "df[\"Bab\"] = \"Bab 1\"\n",
    "df.to_csv(\"datasets_ta/pengetahuan_gpt_new.csv\", mode='a', header=False, index=False)\n",
    "\n",
    "print(\"Bab 1 berhasil di-append\")"
   ]
  },
  {
   "cell_type": "markdown",
   "id": "3e433d5a",
   "metadata": {},
   "source": [
    "# Generate Pengetahuan ChatGPT: Bab 2"
   ]
  },
  {
   "cell_type": "markdown",
   "id": "87cedc69",
   "metadata": {},
   "source": [
    "## Bab 2, prompt 1"
   ]
  },
  {
   "cell_type": "code",
   "execution_count": 38,
   "id": "abb7d7ca",
   "metadata": {},
   "outputs": [
    {
     "name": "stdout",
     "output_type": "stream",
     "text": [
      "Essay 1 completed\n",
      "Essay 2 completed\n",
      "Essay 3 completed\n",
      "Essay 4 completed\n",
      "Essay 5 completed\n",
      "Bab 2 berhasil di-append\n"
     ]
    }
   ],
   "source": [
    "responses = [] \n",
    "for i in range(5):\n",
    "    try:\n",
    "        response = client.chat.completions.create(\n",
    "        model=\"gpt-4o\",\n",
    "        messages=[\n",
    "            {\n",
    "            \"role\": \"system\",\n",
    "            \"content\": [\n",
    "                {\n",
    "                \"type\": \"text\",\n",
    "                \"text\": \"Buatkan paragraf informasi min.350 karakter, sesuai Materi kelas X, diharapkan dapat membuat tulisan dalam 2-4 paragraf, di masing-masing paragraf terdiri dari 5-8 kalimat. Raw text tanpa bold/italic/markdown. Definisikan empat fondasi berpikir komputasional (Abstraksi, Algoritma, Dekomposisi, dan Pengenalan Pola) dan berikan contoh konkret penerapannya dalam penyelesaian masalah sehari-hari.\\n\"\n",
    "                }\n",
    "            ]\n",
    "            }\n",
    "        ],\n",
    "        response_format={\n",
    "            \"type\": \"text\"\n",
    "        },\n",
    "        temperature=1,\n",
    "        max_completion_tokens=16384,\n",
    "        top_p=1,\n",
    "        frequency_penalty=0,\n",
    "        presence_penalty=0,\n",
    "        store=False\n",
    "        )\n",
    "        text_response = response.choices[0].message.content\n",
    "\n",
    "        # Saving the response\n",
    "        print(f\"Essay {i+1} completed\")\n",
    "        responses.append(text_response)\n",
    "        time.sleep(1)\n",
    "\n",
    "    except Exception as e:\n",
    "        print(f\"Terjadi kesalahan pada sesi {i+1}: {e}\")\n",
    "        break\n",
    "\n",
    "os.makedirs(\"datasets\", exist_ok=True)\n",
    "\n",
    "# Save the responses to a CSV file\n",
    "df = pd.DataFrame(responses, columns=[\"Response\"])\n",
    "df[\"Bab\"] = \"Bab 2\"\n",
    "df.to_csv(\"datasets_ta/pengetahuan_gpt_new.csv\", mode='a', header=False, index=False)\n",
    "\n",
    "print(\"Bab 2 berhasil di-append\")"
   ]
  },
  {
   "cell_type": "markdown",
   "id": "babfd3dc",
   "metadata": {},
   "source": [
    "## Bab 2, prompt 2"
   ]
  },
  {
   "cell_type": "code",
   "execution_count": 39,
   "id": "c43548a5",
   "metadata": {},
   "outputs": [
    {
     "name": "stdout",
     "output_type": "stream",
     "text": [
      "Essay 1 completed\n",
      "Essay 2 completed\n",
      "Essay 3 completed\n",
      "Essay 4 completed\n",
      "Essay 5 completed\n",
      "Bab 2 berhasil di-append\n"
     ]
    }
   ],
   "source": [
    "responses = [] \n",
    "for i in range(5):\n",
    "    try:\n",
    "        response = client.chat.completions.create(\n",
    "        model=\"gpt-4o\",\n",
    "        messages=[\n",
    "            {\n",
    "            \"role\": \"system\",\n",
    "            \"content\": [\n",
    "                {\n",
    "                \"type\": \"text\",\n",
    "                \"text\": \"Buatkan paragraf informasi min.350 karakter, sesuai Materi kelas X, diharapkan dapat membuat tulisan dalam 2-4 paragraf, di masing-masing paragraf terdiri dari 5-8 kalimat. Raw text tanpa bold/italic/markdown. Jelaskan berbagai strategi algoritmik yang digunakan dalam proses searching (pencarian), seperti binary searchdan linear search, serta proses sorting (pengurutan), seperti bubble sort dan selection sort, termasuk analisis efisiensi masing-masing strategi tersebut.\\n\"\n",
    "                }\n",
    "            ]\n",
    "            }\n",
    "        ],\n",
    "        response_format={\n",
    "            \"type\": \"text\"\n",
    "        },\n",
    "        temperature=1,\n",
    "        max_completion_tokens=16384,\n",
    "        top_p=1,\n",
    "        frequency_penalty=0,\n",
    "        presence_penalty=0,\n",
    "        store=False\n",
    "        )\n",
    "        text_response = response.choices[0].message.content\n",
    "\n",
    "        # Saving the response\n",
    "        print(f\"Essay {i+1} completed\")\n",
    "        responses.append(text_response)\n",
    "        time.sleep(1)\n",
    "\n",
    "    except Exception as e:\n",
    "        print(f\"Terjadi kesalahan pada sesi {i+1}: {e}\")\n",
    "        break\n",
    "\n",
    "os.makedirs(\"datasets\", exist_ok=True)\n",
    "\n",
    "# Save the responses to a CSV file\n",
    "df = pd.DataFrame(responses, columns=[\"Response\"])\n",
    "df[\"Bab\"] = \"Bab 2\"\n",
    "df.to_csv(\"datasets_ta/pengetahuan_gpt_new.csv\", mode='a', header=False, index=False)\n",
    "\n",
    "print(\"Bab 2 berhasil di-append\")"
   ]
  },
  {
   "cell_type": "markdown",
   "id": "c012b62f",
   "metadata": {},
   "source": [
    "## Bab 2, prompt 3"
   ]
  },
  {
   "cell_type": "code",
   "execution_count": 40,
   "id": "76caa703",
   "metadata": {},
   "outputs": [
    {
     "name": "stdout",
     "output_type": "stream",
     "text": [
      "Essay 1 completed\n",
      "Essay 2 completed\n",
      "Essay 3 completed\n",
      "Essay 4 completed\n",
      "Essay 5 completed\n",
      "Bab 2 berhasil di-append\n"
     ]
    }
   ],
   "source": [
    "responses = [] \n",
    "for i in range(5):\n",
    "    try:\n",
    "        response = client.chat.completions.create(\n",
    "        model=\"gpt-4o\",\n",
    "        messages=[\n",
    "            {\n",
    "            \"role\": \"system\",\n",
    "            \"content\": [\n",
    "                {\n",
    "                \"type\": \"text\",\n",
    "                \"text\": \"Buatkan paragraf informasi min.350 karakter, sesuai Materi kelas X, diharapkan dapat membuat tulisan dalam 2-4 paragraf, di masing-masing paragraf terdiri dari 5-8 kalimat. Raw text tanpa bold/italic/markdown. Terangkan konsep struktur data stack (tumpukan) dengan prinsip LIFO dan queue (antrean) dengan prinsip FIFO, beserta operasi-operasi dasarnya dan contoh pemanfaatannya dalam kehidupan sehari-hari.\\n\"\n",
    "                }\n",
    "            ]\n",
    "            }\n",
    "        ],\n",
    "        response_format={\n",
    "            \"type\": \"text\"\n",
    "        },\n",
    "        temperature=1,\n",
    "        max_completion_tokens=16384,\n",
    "        top_p=1,\n",
    "        frequency_penalty=0,\n",
    "        presence_penalty=0,\n",
    "        store=False\n",
    "        )\n",
    "        text_response = response.choices[0].message.content\n",
    "\n",
    "        # Saving the response\n",
    "        print(f\"Essay {i+1} completed\")\n",
    "        responses.append(text_response)\n",
    "        time.sleep(1)\n",
    "\n",
    "    except Exception as e:\n",
    "        print(f\"Terjadi kesalahan pada sesi {i+1}: {e}\")\n",
    "        break\n",
    "\n",
    "os.makedirs(\"datasets\", exist_ok=True)\n",
    "\n",
    "# Save the responses to a CSV file\n",
    "df = pd.DataFrame(responses, columns=[\"Response\"])\n",
    "df[\"Bab\"] = \"Bab 2\"\n",
    "df.to_csv(\"datasets_ta/pengetahuan_gpt_new.csv\", mode='a', header=False, index=False)\n",
    "\n",
    "print(\"Bab 2 berhasil di-append\")"
   ]
  },
  {
   "cell_type": "markdown",
   "id": "226ad480",
   "metadata": {},
   "source": [
    "# Generate Pengetahuan ChatGPT: Bab 3"
   ]
  },
  {
   "cell_type": "markdown",
   "id": "bc8a7dc6",
   "metadata": {},
   "source": [
    "## Bab 3, prompt 1"
   ]
  },
  {
   "cell_type": "code",
   "execution_count": 41,
   "id": "e0ff978c",
   "metadata": {},
   "outputs": [
    {
     "name": "stdout",
     "output_type": "stream",
     "text": [
      "Essay 1 completed\n",
      "Essay 2 completed\n",
      "Essay 3 completed\n",
      "Essay 4 completed\n",
      "Essay 5 completed\n",
      "Bab 3 berhasil di-append\n"
     ]
    }
   ],
   "source": [
    "responses = [] \n",
    "for i in range(5):\n",
    "    try:\n",
    "        response = client.chat.completions.create(\n",
    "        model=\"gpt-4o\",\n",
    "        messages=[\n",
    "            {\n",
    "            \"role\": \"system\",\n",
    "            \"content\": [\n",
    "                {\n",
    "                \"type\": \"text\",\n",
    "                \"text\": \"Buatkan paragraf informasi min.350 karakter, sesuai Materi kelas X, diharapkan dapat membuat tulisan dalam 2-4 paragraf, di masing-masing paragraf terdiri dari 5-8 kalimat. Raw text tanpa bold/italic/markdown. Jelaskan langkah-langkah teknis dan manfaat dari melakukan integrasi konten antara aplikasi Microsoft Word dan Microsoft Excel, serta antara Microsoft PowerPoint dan Microsoft Excel, termasuk konsep Object Linking and Embedding (OLE).\\n\"\n",
    "                }\n",
    "            ]\n",
    "            }\n",
    "        ],\n",
    "        response_format={\n",
    "            \"type\": \"text\"\n",
    "        },\n",
    "        temperature=1,\n",
    "        max_completion_tokens=16384,\n",
    "        top_p=1,\n",
    "        frequency_penalty=0,\n",
    "        presence_penalty=0,\n",
    "        store=False\n",
    "        )\n",
    "        text_response = response.choices[0].message.content\n",
    "\n",
    "        # Saving the response\n",
    "        print(f\"Essay {i+1} completed\")\n",
    "        responses.append(text_response)\n",
    "        time.sleep(1)\n",
    "\n",
    "    except Exception as e:\n",
    "        print(f\"Terjadi kesalahan pada sesi {i+1}: {e}\")\n",
    "        break\n",
    "\n",
    "os.makedirs(\"datasets\", exist_ok=True)\n",
    "\n",
    "# Save the responses to a CSV file\n",
    "df = pd.DataFrame(responses, columns=[\"Response\"])\n",
    "df[\"Bab\"] = \"Bab 3\"\n",
    "df.to_csv(\"datasets_ta/pengetahuan_gpt_new.csv\", mode='a', header=False, index=False)\n",
    "\n",
    "print(\"Bab 3 berhasil di-append\")"
   ]
  },
  {
   "cell_type": "markdown",
   "id": "7b5bd914",
   "metadata": {},
   "source": [
    "## Bab 3, prompt 2"
   ]
  },
  {
   "cell_type": "code",
   "execution_count": 42,
   "id": "b6fa8670",
   "metadata": {},
   "outputs": [
    {
     "name": "stdout",
     "output_type": "stream",
     "text": [
      "Essay 1 completed\n",
      "Essay 2 completed\n",
      "Essay 3 completed\n",
      "Essay 4 completed\n",
      "Essay 5 completed\n",
      "Bab 3 berhasil di-append\n"
     ]
    }
   ],
   "source": [
    "responses = [] \n",
    "for i in range(5):\n",
    "    try:\n",
    "        response = client.chat.completions.create(\n",
    "        model=\"gpt-4o\",\n",
    "        messages=[\n",
    "            {\n",
    "            \"role\": \"system\",\n",
    "            \"content\": [\n",
    "                {\n",
    "                \"type\": \"text\",\n",
    "                \"text\": \"Buatkan paragraf informasi min.350 karakter, sesuai Materi kelas X, diharapkan dapat membuat tulisan dalam 2-4 paragraf, di masing-masing paragraf terdiri dari 5-8 kalimat. Raw text tanpa bold/italic/markdown. Uraikan cara menggunakan fitur-fitur lanjut dalam aplikasi perkantoran seperti Mail Merge untuk personalisasi dokumen massal dan pembuatan daftar isi otomatis di Microsoft Word.\\n\"\n",
    "                }\n",
    "            ]\n",
    "            }\n",
    "        ],\n",
    "        response_format={\n",
    "            \"type\": \"text\"\n",
    "        },\n",
    "        temperature=1,\n",
    "        max_completion_tokens=16384,\n",
    "        top_p=1,\n",
    "        frequency_penalty=0,\n",
    "        presence_penalty=0,\n",
    "        store=False\n",
    "        )\n",
    "        text_response = response.choices[0].message.content\n",
    "\n",
    "        # Saving the response\n",
    "        print(f\"Essay {i+1} completed\")\n",
    "        responses.append(text_response)\n",
    "        time.sleep(1)\n",
    "\n",
    "    except Exception as e:\n",
    "        print(f\"Terjadi kesalahan pada sesi {i+1}: {e}\")\n",
    "        break\n",
    "\n",
    "os.makedirs(\"datasets\", exist_ok=True)\n",
    "\n",
    "# Save the responses to a CSV file\n",
    "df = pd.DataFrame(responses, columns=[\"Response\"])\n",
    "df[\"Bab\"] = \"Bab 3\"\n",
    "df.to_csv(\"datasets_ta/pengetahuan_gpt_new.csv\", mode='a', header=False, index=False)\n",
    "\n",
    "print(\"Bab 3 berhasil di-append\")"
   ]
  },
  {
   "cell_type": "markdown",
   "id": "0bcd8fe1",
   "metadata": {},
   "source": [
    "## Bab 3, prompt 3"
   ]
  },
  {
   "cell_type": "code",
   "execution_count": 43,
   "id": "7b0a7857",
   "metadata": {},
   "outputs": [
    {
     "name": "stdout",
     "output_type": "stream",
     "text": [
      "Essay 1 completed\n",
      "Essay 2 completed\n",
      "Essay 3 completed\n",
      "Essay 4 completed\n",
      "Essay 5 completed\n",
      "Bab 3 berhasil di-append\n"
     ]
    }
   ],
   "source": [
    "responses = [] \n",
    "for i in range(5):\n",
    "    try:\n",
    "        response = client.chat.completions.create(\n",
    "        model=\"gpt-4o\",\n",
    "        messages=[\n",
    "            {\n",
    "            \"role\": \"system\",\n",
    "            \"content\": [\n",
    "                {\n",
    "                \"type\": \"text\",\n",
    "                \"text\": \"Buatkan paragraf informasi min.350 karakter, sesuai Materi kelas X, diharapkan dapat membuat tulisan dalam 2-4 paragraf, di masing-masing paragraf terdiri dari 5-8 kalimat. Raw text tanpa bold/italic/markdown. Deskripsikan langkah-langkah untuk membuat video presentasi menggunakan Microsoft PowerPoint.\\n\"\n",
    "                }\n",
    "            ]\n",
    "            }\n",
    "        ],\n",
    "        response_format={\n",
    "            \"type\": \"text\"\n",
    "        },\n",
    "        temperature=1,\n",
    "        max_completion_tokens=16384,\n",
    "        top_p=1,\n",
    "        frequency_penalty=0,\n",
    "        presence_penalty=0,\n",
    "        store=False\n",
    "        )\n",
    "        text_response = response.choices[0].message.content\n",
    "\n",
    "        # Saving the response\n",
    "        print(f\"Essay {i+1} completed\")\n",
    "        responses.append(text_response)\n",
    "        time.sleep(1)\n",
    "\n",
    "    except Exception as e:\n",
    "        print(f\"Terjadi kesalahan pada sesi {i+1}: {e}\")\n",
    "        break\n",
    "\n",
    "os.makedirs(\"datasets\", exist_ok=True)\n",
    "\n",
    "# Save the responses to a CSV file\n",
    "df = pd.DataFrame(responses, columns=[\"Response\"])\n",
    "df[\"Bab\"] = \"Bab 3\"\n",
    "df.to_csv(\"datasets_ta/pengetahuan_gpt_new.csv\", mode='a', header=False, index=False)\n",
    "\n",
    "print(\"Bab 3 berhasil di-append\")"
   ]
  },
  {
   "cell_type": "markdown",
   "id": "2d420807",
   "metadata": {},
   "source": [
    "# Generate Pengetahuan ChatGPT: Bab 4"
   ]
  },
  {
   "cell_type": "markdown",
   "id": "c4c23d82",
   "metadata": {},
   "source": [
    "## Bab 4, prompt 1"
   ]
  },
  {
   "cell_type": "code",
   "execution_count": 44,
   "id": "85024f0a",
   "metadata": {},
   "outputs": [
    {
     "name": "stdout",
     "output_type": "stream",
     "text": [
      "Essay 1 completed\n",
      "Essay 2 completed\n",
      "Essay 3 completed\n",
      "Essay 4 completed\n",
      "Essay 5 completed\n",
      "Bab 4 berhasil di-append\n"
     ]
    }
   ],
   "source": [
    "responses = [] \n",
    "for i in range(5):\n",
    "    try:\n",
    "        response = client.chat.completions.create(\n",
    "        model=\"gpt-4o\",\n",
    "        messages=[\n",
    "            {\n",
    "            \"role\": \"system\",\n",
    "            \"content\": [\n",
    "                {\n",
    "                \"type\": \"text\",\n",
    "                \"text\": \"Buatkan paragraf informasi min.350 karakter, sesuai Materi kelas X, diharapkan dapat membuat tulisan dalam 2-4 paragraf, di masing-masing paragraf terdiri dari 5-8 kalimat. Raw text tanpa bold/italic/markdown. Deskripsikan komponen-komponen utama yang menyusun sebuah sistem komputer (perangkat keras, perangkat lunak, pengguna) dan jelaskan bagaimana ketiga komponen utama ini berkolaborasi untuk membentuk sistem yang fungsional.\\n\"\n",
    "                }\n",
    "            ]\n",
    "            }\n",
    "        ],\n",
    "        response_format={\n",
    "            \"type\": \"text\"\n",
    "        },\n",
    "        temperature=1,\n",
    "        max_completion_tokens=16384,\n",
    "        top_p=1,\n",
    "        frequency_penalty=0,\n",
    "        presence_penalty=0,\n",
    "        store=False\n",
    "        )\n",
    "        text_response = response.choices[0].message.content\n",
    "\n",
    "        # Saving the response\n",
    "        print(f\"Essay {i+1} completed\")\n",
    "        responses.append(text_response)\n",
    "        time.sleep(1)\n",
    "\n",
    "    except Exception as e:\n",
    "        print(f\"Terjadi kesalahan pada sesi {i+1}: {e}\")\n",
    "        break\n",
    "\n",
    "os.makedirs(\"datasets\", exist_ok=True)\n",
    "\n",
    "# Save the responses to a CSV file\n",
    "df = pd.DataFrame(responses, columns=[\"Response\"])\n",
    "df[\"Bab\"] = \"Bab 4\"\n",
    "df.to_csv(\"datasets_ta/pengetahuan_gpt_new.csv\", mode='a', header=False, index=False)\n",
    "\n",
    "print(\"Bab 4 berhasil di-append\")"
   ]
  },
  {
   "cell_type": "markdown",
   "id": "dbb2fe97",
   "metadata": {},
   "source": [
    "## Bab 4, prompt 2"
   ]
  },
  {
   "cell_type": "code",
   "execution_count": 45,
   "id": "08d5230f",
   "metadata": {},
   "outputs": [
    {
     "name": "stdout",
     "output_type": "stream",
     "text": [
      "Essay 1 completed\n",
      "Essay 2 completed\n",
      "Essay 3 completed\n",
      "Essay 4 completed\n",
      "Essay 5 completed\n",
      "Bab 4 berhasil di-append\n"
     ]
    }
   ],
   "source": [
    "responses = [] \n",
    "for i in range(5):\n",
    "    try:\n",
    "        response = client.chat.completions.create(\n",
    "        model=\"gpt-4o\",\n",
    "        messages=[\n",
    "            {\n",
    "            \"role\": \"system\",\n",
    "            \"content\": [\n",
    "                {\n",
    "                \"type\": \"text\",\n",
    "                \"text\": \"Buatkan paragraf informasi min.350 karakter, sesuai Materi kelas X, diharapkan dapat membuat tulisan dalam 2-4 paragraf, di masing-masing paragraf terdiri dari 5-8 kalimat. Raw text tanpa bold/italic/markdown. Jelaskan peran sentral sistem operasi dalam mengelola sumber daya komputer, menyediakan antarmuka, dan mekanisme multitasking yang memungkinkan komputer menjalankan beberapa program secara bersamaan.\\n\"\n",
    "                }\n",
    "            ]\n",
    "            }\n",
    "        ],\n",
    "        response_format={\n",
    "            \"type\": \"text\"\n",
    "        },\n",
    "        temperature=1,\n",
    "        max_completion_tokens=16384,\n",
    "        top_p=1,\n",
    "        frequency_penalty=0,\n",
    "        presence_penalty=0,\n",
    "        store=False\n",
    "        )\n",
    "        text_response = response.choices[0].message.content\n",
    "\n",
    "        # Saving the response\n",
    "        print(f\"Essay {i+1} completed\")\n",
    "        responses.append(text_response)\n",
    "        time.sleep(1)\n",
    "\n",
    "    except Exception as e:\n",
    "        print(f\"Terjadi kesalahan pada sesi {i+1}: {e}\")\n",
    "        break\n",
    "\n",
    "os.makedirs(\"datasets\", exist_ok=True)\n",
    "\n",
    "# Save the responses to a CSV file\n",
    "df = pd.DataFrame(responses, columns=[\"Response\"])\n",
    "df[\"Bab\"] = \"Bab 4\"\n",
    "df.to_csv(\"datasets_ta/pengetahuan_gpt_new.csv\", mode='a', header=False, index=False)\n",
    "\n",
    "print(\"Bab 4 berhasil di-append\")"
   ]
  },
  {
   "cell_type": "markdown",
   "id": "5aa1c5c7",
   "metadata": {},
   "source": [
    "## Bab 4, prompt 3"
   ]
  },
  {
   "cell_type": "code",
   "execution_count": 46,
   "id": "7d3efd0b",
   "metadata": {},
   "outputs": [
    {
     "name": "stdout",
     "output_type": "stream",
     "text": [
      "Essay 1 completed\n",
      "Essay 2 completed\n",
      "Essay 3 completed\n",
      "Essay 4 completed\n",
      "Essay 5 completed\n",
      "Bab 4 berhasil di-append\n"
     ]
    }
   ],
   "source": [
    "responses = [] \n",
    "for i in range(5):\n",
    "    try:\n",
    "        response = client.chat.completions.create(\n",
    "        model=\"gpt-4o\",\n",
    "        messages=[\n",
    "            {\n",
    "            \"role\": \"system\",\n",
    "            \"content\": [\n",
    "                {\n",
    "                \"type\": \"text\",\n",
    "                \"text\": \"Buatkan paragraf informasi min.350 karakter, sesuai Materi kelas X, diharapkan dapat membuat tulisan dalam 2-4 paragraf, di masing-masing paragraf terdiri dari 5-8 kalimat. Raw text tanpa bold/italic/markdown. Terangkan mekanisme internal bagaimana komputer bekerja dalam memproses data, mulai dari tahap input, proses di CPU, hingga output, serta berbagai bentuk interaksi antara manusia dan komputer.\\n\"\n",
    "                }\n",
    "            ]\n",
    "            }\n",
    "        ],\n",
    "        response_format={\n",
    "            \"type\": \"text\"\n",
    "        },\n",
    "        temperature=1,\n",
    "        max_completion_tokens=16384,\n",
    "        top_p=1,\n",
    "        frequency_penalty=0,\n",
    "        presence_penalty=0,\n",
    "        store=False\n",
    "        )\n",
    "        text_response = response.choices[0].message.content\n",
    "\n",
    "        # Saving the response\n",
    "        print(f\"Essay {i+1} completed\")\n",
    "        responses.append(text_response)\n",
    "        time.sleep(1)\n",
    "\n",
    "    except Exception as e:\n",
    "        print(f\"Terjadi kesalahan pada sesi {i+1}: {e}\")\n",
    "        break\n",
    "\n",
    "os.makedirs(\"datasets\", exist_ok=True)\n",
    "\n",
    "# Save the responses to a CSV file\n",
    "df = pd.DataFrame(responses, columns=[\"Response\"])\n",
    "df[\"Bab\"] = \"Bab 4\"\n",
    "df.to_csv(\"datasets_ta/pengetahuan_gpt_new.csv\", mode='a', header=False, index=False)\n",
    "\n",
    "print(\"Bab 4 berhasil di-append\")"
   ]
  },
  {
   "cell_type": "markdown",
   "id": "e5eb23e9",
   "metadata": {},
   "source": [
    "# Generate Pengetahuan ChatGPT: Bab 5"
   ]
  },
  {
   "cell_type": "markdown",
   "id": "a40b641d",
   "metadata": {},
   "source": [
    "## Bab 5, prompt 1"
   ]
  },
  {
   "cell_type": "code",
   "execution_count": 47,
   "id": "bdbdaabd",
   "metadata": {},
   "outputs": [
    {
     "name": "stdout",
     "output_type": "stream",
     "text": [
      "Essay 1 completed\n",
      "Essay 2 completed\n",
      "Essay 3 completed\n",
      "Essay 4 completed\n",
      "Essay 5 completed\n",
      "Bab 5 berhasil di-append\n"
     ]
    }
   ],
   "source": [
    "responses = [] \n",
    "for i in range(5):\n",
    "    try:\n",
    "        response = client.chat.completions.create(\n",
    "        model=\"gpt-4o\",\n",
    "        messages=[\n",
    "            {\n",
    "            \"role\": \"system\",\n",
    "            \"content\": [\n",
    "                {\n",
    "                \"type\": \"text\",\n",
    "                \"text\": \"Buatkan paragraf informasi min.350 karakter, sesuai Materi kelas X, diharapkan dapat membuat tulisan dalam 2-4 paragraf, di masing-masing paragraf terdiri dari 5-8 kalimat. Raw text tanpa bold/italic/markdown. Jelaskan perbedaan mendasar antara jaringan lokal (LAN) dan internet, serta deskripsikan berbagai jenis konektivitas internet yang umum digunakan (kabel dan nirkabel).\\n\"\n",
    "                }\n",
    "            ]\n",
    "            }\n",
    "        ],\n",
    "        response_format={\n",
    "            \"type\": \"text\"\n",
    "        },\n",
    "        temperature=1,\n",
    "        max_completion_tokens=16384,\n",
    "        top_p=1,\n",
    "        frequency_penalty=0,\n",
    "        presence_penalty=0,\n",
    "        store=False\n",
    "        )\n",
    "        text_response = response.choices[0].message.content\n",
    "\n",
    "        # Saving the response\n",
    "        print(f\"Essay {i+1} completed\")\n",
    "        responses.append(text_response)\n",
    "        time.sleep(1)\n",
    "\n",
    "    except Exception as e:\n",
    "        print(f\"Terjadi kesalahan pada sesi {i+1}: {e}\")\n",
    "        break\n",
    "\n",
    "os.makedirs(\"datasets\", exist_ok=True)\n",
    "\n",
    "# Save the responses to a CSV file\n",
    "df = pd.DataFrame(responses, columns=[\"Response\"])\n",
    "df[\"Bab\"] = \"Bab 5\"\n",
    "df.to_csv(\"datasets_ta/pengetahuan_gpt_new.csv\", mode='a', header=False, index=False)\n",
    "\n",
    "print(\"Bab 5 berhasil di-append\")"
   ]
  },
  {
   "cell_type": "markdown",
   "id": "af2ed04f",
   "metadata": {},
   "source": [
    "## Bab 5, prompt 2"
   ]
  },
  {
   "cell_type": "code",
   "execution_count": 48,
   "id": "4945de21",
   "metadata": {},
   "outputs": [
    {
     "name": "stdout",
     "output_type": "stream",
     "text": [
      "Essay 1 completed\n",
      "Essay 2 completed\n",
      "Essay 3 completed\n",
      "Essay 4 completed\n",
      "Essay 5 completed\n",
      "Bab 5 berhasil di-append\n"
     ]
    }
   ],
   "source": [
    "responses = [] \n",
    "for i in range(5):\n",
    "    try:\n",
    "        response = client.chat.completions.create(\n",
    "        model=\"gpt-4o\",\n",
    "        messages=[\n",
    "            {\n",
    "            \"role\": \"system\",\n",
    "            \"content\": [\n",
    "                {\n",
    "                \"type\": \"text\",\n",
    "                \"text\": \"Buatkan paragraf informasi min.350 karakter, sesuai Materi kelas X, diharapkan dapat membuat tulisan dalam 2-4 paragraf, di masing-masing paragraf terdiri dari 5-8 kalimat. Raw text tanpa bold/italic/markdown. Terangkan teknologi komunikasi data yang digunakan pada perangkat seluler (HP), seperti GPRS atau teknologi seluler generasi terbaru, dan bagaimana proses komunikasi data terjadi pada perangkat tersebut.\\n\"\n",
    "                }\n",
    "            ]\n",
    "            }\n",
    "        ],\n",
    "        response_format={\n",
    "            \"type\": \"text\"\n",
    "        },\n",
    "        temperature=1,\n",
    "        max_completion_tokens=16384,\n",
    "        top_p=1,\n",
    "        frequency_penalty=0,\n",
    "        presence_penalty=0,\n",
    "        store=False\n",
    "        )\n",
    "        text_response = response.choices[0].message.content\n",
    "\n",
    "        # Saving the response\n",
    "        print(f\"Essay {i+1} completed\")\n",
    "        responses.append(text_response)\n",
    "        time.sleep(1)\n",
    "\n",
    "    except Exception as e:\n",
    "        print(f\"Terjadi kesalahan pada sesi {i+1}: {e}\")\n",
    "        break\n",
    "\n",
    "os.makedirs(\"datasets\", exist_ok=True)\n",
    "\n",
    "# Save the responses to a CSV file\n",
    "df = pd.DataFrame(responses, columns=[\"Response\"])\n",
    "df[\"Bab\"] = \"Bab 5\"\n",
    "df.to_csv(\"datasets_ta/pengetahuan_gpt_new.csv\", mode='a', header=False, index=False)\n",
    "\n",
    "print(\"Bab 5 berhasil di-append\")"
   ]
  },
  {
   "cell_type": "markdown",
   "id": "91ca2d16",
   "metadata": {},
   "source": [
    "## Bab 5, prompt 3"
   ]
  },
  {
   "cell_type": "code",
   "execution_count": 49,
   "id": "f09e4c5b",
   "metadata": {},
   "outputs": [
    {
     "name": "stdout",
     "output_type": "stream",
     "text": [
      "Essay 1 completed\n",
      "Essay 2 completed\n",
      "Essay 3 completed\n",
      "Essay 4 completed\n",
      "Essay 5 completed\n",
      "Bab 5 berhasil di-append\n"
     ]
    }
   ],
   "source": [
    "responses = [] \n",
    "for i in range(5):\n",
    "    try:\n",
    "        response = client.chat.completions.create(\n",
    "        model=\"gpt-4o\",\n",
    "        messages=[\n",
    "            {\n",
    "            \"role\": \"system\",\n",
    "            \"content\": [\n",
    "                {\n",
    "                \"type\": \"text\",\n",
    "                \"text\": \"Buatkan paragraf informasi min.350 karakter, sesuai Materi kelas X, diharapkan dapat membuat tulisan dalam 2-4 paragraf, di masing-masing paragraf terdiri dari 5-8 kalimat. Raw text tanpa bold/italic/markdown. Jelaskan pentingnya proteksi data pribadi saat terhubung ke jaringan internet, konsep enkripsi data (misalnya HTTPS), dan cara menerapkan enkripsi untuk memproteksi dokumen digital.\\n\"\n",
    "                }\n",
    "            ]\n",
    "            }\n",
    "        ],\n",
    "        response_format={\n",
    "            \"type\": \"text\"\n",
    "        },\n",
    "        temperature=1,\n",
    "        max_completion_tokens=16384,\n",
    "        top_p=1,\n",
    "        frequency_penalty=0,\n",
    "        presence_penalty=0,\n",
    "        store=False\n",
    "        )\n",
    "        text_response = response.choices[0].message.content\n",
    "\n",
    "        # Saving the response\n",
    "        print(f\"Essay {i+1} completed\")\n",
    "        responses.append(text_response)\n",
    "        time.sleep(1)\n",
    "\n",
    "    except Exception as e:\n",
    "        print(f\"Terjadi kesalahan pada sesi {i+1}: {e}\")\n",
    "        break\n",
    "\n",
    "os.makedirs(\"datasets\", exist_ok=True)\n",
    "\n",
    "# Save the responses to a CSV file\n",
    "df = pd.DataFrame(responses, columns=[\"Response\"])\n",
    "df[\"Bab\"] = \"Bab 5\"\n",
    "df.to_csv(\"datasets_ta/pengetahuan_gpt_new.csv\", mode='a', header=False, index=False)\n",
    "\n",
    "print(\"Bab 5 berhasil di-append\")"
   ]
  },
  {
   "cell_type": "markdown",
   "id": "366a12b0",
   "metadata": {},
   "source": [
    "# Generate Pengetahuan ChatGPT: Bab 6"
   ]
  },
  {
   "cell_type": "markdown",
   "id": "4645dfed",
   "metadata": {},
   "source": [
    "## Bab 6, prompt 1"
   ]
  },
  {
   "cell_type": "code",
   "execution_count": 50,
   "id": "4e87bae0",
   "metadata": {},
   "outputs": [
    {
     "name": "stdout",
     "output_type": "stream",
     "text": [
      "Essay 1 completed\n",
      "Essay 2 completed\n",
      "Essay 3 completed\n",
      "Essay 4 completed\n",
      "Essay 5 completed\n",
      "Bab 6 berhasil di-append\n"
     ]
    }
   ],
   "source": [
    "responses = [] \n",
    "for i in range(5):\n",
    "    try:\n",
    "        response = client.chat.completions.create(\n",
    "        model=\"gpt-4o\",\n",
    "        messages=[\n",
    "            {\n",
    "            \"role\": \"system\",\n",
    "            \"content\": [\n",
    "                {\n",
    "                \"type\": \"text\",\n",
    "                \"text\": \"Buatkan paragraf informasi min.350 karakter, sesuai Materi kelas X, diharapkan dapat membuat tulisan dalam 2-4 paragraf, di masing-masing paragraf terdiri dari 5-8 kalimat. Raw text tanpa bold/italic/markdown. Deskripsikan berbagai cara pengumpulan data, baik manual maupun otomatis melalui teknik web scraping, serta jelaskan bagaimana Google Colab dan Python digunakan dalam proses pengumpulan dan analisis data.\\n\"\n",
    "                }\n",
    "            ]\n",
    "            }\n",
    "        ],\n",
    "        response_format={\n",
    "            \"type\": \"text\"\n",
    "        },\n",
    "        temperature=1,\n",
    "        max_completion_tokens=16384,\n",
    "        top_p=1,\n",
    "        frequency_penalty=0,\n",
    "        presence_penalty=0,\n",
    "        store=False\n",
    "        )\n",
    "        text_response = response.choices[0].message.content\n",
    "\n",
    "        # Saving the response\n",
    "        print(f\"Essay {i+1} completed\")\n",
    "        responses.append(text_response)\n",
    "        time.sleep(1)\n",
    "\n",
    "    except Exception as e:\n",
    "        print(f\"Terjadi kesalahan pada sesi {i+1}: {e}\")\n",
    "        break\n",
    "\n",
    "os.makedirs(\"datasets\", exist_ok=True)\n",
    "\n",
    "# Save the responses to a CSV file\n",
    "df = pd.DataFrame(responses, columns=[\"Response\"])\n",
    "df[\"Bab\"] = \"Bab 6\"\n",
    "df.to_csv(\"datasets_ta/pengetahuan_gpt_new.csv\", mode='a', header=False, index=False)\n",
    "\n",
    "print(\"Bab 6 berhasil di-append\")"
   ]
  },
  {
   "cell_type": "markdown",
   "id": "844c4aa9",
   "metadata": {},
   "source": [
    "## Bab 6, prompt 2"
   ]
  },
  {
   "cell_type": "code",
   "execution_count": 51,
   "id": "984f00c5",
   "metadata": {},
   "outputs": [
    {
     "name": "stdout",
     "output_type": "stream",
     "text": [
      "Essay 1 completed\n",
      "Essay 2 completed\n",
      "Essay 3 completed\n",
      "Essay 4 completed\n",
      "Essay 5 completed\n",
      "Bab 6 berhasil di-append\n"
     ]
    }
   ],
   "source": [
    "responses = [] \n",
    "for i in range(5):\n",
    "    try:\n",
    "        response = client.chat.completions.create(\n",
    "        model=\"gpt-4o\",\n",
    "        messages=[\n",
    "            {\n",
    "            \"role\": \"system\",\n",
    "            \"content\": [\n",
    "                {\n",
    "                \"type\": \"text\",\n",
    "                \"text\": \"Buatkan paragraf informasi min.350 karakter, sesuai Materi kelas X, diharapkan dapat membuat tulisan dalam 2-4 paragraf, di masing-masing paragraf terdiri dari 5-8 kalimat. Raw text tanpa bold/italic/markdown. Jelaskan langkah-langkah utama dalam siklus pengolahan data (pengumpulan, pengolahan, visualisasi, analisis, interpretasi, publikasi) dan bagaimana aspek privasi serta keamanan data harus diperhatikan dalam setiap tahapan.\\n\"\n",
    "                }\n",
    "            ]\n",
    "            }\n",
    "        ],\n",
    "        response_format={\n",
    "            \"type\": \"text\"\n",
    "        },\n",
    "        temperature=1,\n",
    "        max_completion_tokens=16384,\n",
    "        top_p=1,\n",
    "        frequency_penalty=0,\n",
    "        presence_penalty=0,\n",
    "        store=False\n",
    "        )\n",
    "        text_response = response.choices[0].message.content\n",
    "\n",
    "        # Saving the response\n",
    "        print(f\"Essay {i+1} completed\")\n",
    "        responses.append(text_response)\n",
    "        time.sleep(1)\n",
    "\n",
    "    except Exception as e:\n",
    "        print(f\"Terjadi kesalahan pada sesi {i+1}: {e}\")\n",
    "        break\n",
    "\n",
    "os.makedirs(\"datasets\", exist_ok=True)\n",
    "\n",
    "# Save the responses to a CSV file\n",
    "df = pd.DataFrame(responses, columns=[\"Response\"])\n",
    "df[\"Bab\"] = \"Bab 6\"\n",
    "df.to_csv(\"datasets_ta/pengetahuan_gpt_new.csv\", mode='a', header=False, index=False)\n",
    "\n",
    "print(\"Bab 6 berhasil di-append\")"
   ]
  },
  {
   "cell_type": "markdown",
   "id": "b306788f",
   "metadata": {},
   "source": [
    "## Bab 6, prompt 3"
   ]
  },
  {
   "cell_type": "code",
   "execution_count": 52,
   "id": "2d0ce936",
   "metadata": {},
   "outputs": [
    {
     "name": "stdout",
     "output_type": "stream",
     "text": [
      "Essay 1 completed\n",
      "Essay 2 completed\n",
      "Essay 3 completed\n",
      "Essay 4 completed\n",
      "Essay 5 completed\n",
      "Bab 6 berhasil di-append\n"
     ]
    }
   ],
   "source": [
    "responses = [] \n",
    "for i in range(5):\n",
    "    try:\n",
    "        response = client.chat.completions.create(\n",
    "        model=\"gpt-4o\",\n",
    "        messages=[\n",
    "            {\n",
    "            \"role\": \"system\",\n",
    "            \"content\": [\n",
    "                {\n",
    "                \"type\": \"text\",\n",
    "                \"text\": \"Buatkan paragraf informasi min.350 karakter, sesuai Materi kelas X, diharapkan dapat membuat tulisan dalam 2-4 paragraf, di masing-masing paragraf terdiri dari 5-8 kalimat. Raw text tanpa bold/italic/markdown. Terangkan bagaimana data dalam volume besar dapat ditransformasi, digeneralisasi, dan disederhanakan menjadi informasi bermakna, serta cara melakukan interpretasi data dan membuat prediksi berdasarkan pola yang teridentifikasi.\\n\"\n",
    "                }\n",
    "            ]\n",
    "            }\n",
    "        ],\n",
    "        response_format={\n",
    "            \"type\": \"text\"\n",
    "        },\n",
    "        temperature=1,\n",
    "        max_completion_tokens=16384,\n",
    "        top_p=1,\n",
    "        frequency_penalty=0,\n",
    "        presence_penalty=0,\n",
    "        store=False\n",
    "        )\n",
    "        text_response = response.choices[0].message.content\n",
    "\n",
    "        # Saving the response\n",
    "        print(f\"Essay {i+1} completed\")\n",
    "        responses.append(text_response)\n",
    "        time.sleep(1)\n",
    "\n",
    "    except Exception as e:\n",
    "        print(f\"Terjadi kesalahan pada sesi {i+1}: {e}\")\n",
    "        break\n",
    "\n",
    "os.makedirs(\"datasets\", exist_ok=True)\n",
    "\n",
    "# Save the responses to a CSV file\n",
    "df = pd.DataFrame(responses, columns=[\"Response\"])\n",
    "df[\"Bab\"] = \"Bab 6\"\n",
    "df.to_csv(\"datasets_ta/pengetahuan_gpt_new.csv\", mode='a', header=False, index=False)\n",
    "\n",
    "print(\"Bab 6 berhasil di-append\")"
   ]
  },
  {
   "cell_type": "markdown",
   "id": "f113e2ec",
   "metadata": {},
   "source": [
    "# Generate Pengetahuan ChatGPT: Bab 7"
   ]
  },
  {
   "cell_type": "markdown",
   "id": "8b09609d",
   "metadata": {},
   "source": [
    "## Bab 7, prompt 1"
   ]
  },
  {
   "cell_type": "code",
   "execution_count": 53,
   "id": "12ff522f",
   "metadata": {},
   "outputs": [
    {
     "name": "stdout",
     "output_type": "stream",
     "text": [
      "Essay 1 completed\n",
      "Essay 2 completed\n",
      "Essay 3 completed\n",
      "Essay 4 completed\n",
      "Essay 5 completed\n",
      "Bab 7 berhasil di-append\n"
     ]
    }
   ],
   "source": [
    "responses = [] \n",
    "for i in range(5):\n",
    "    try:\n",
    "        response = client.chat.completions.create(\n",
    "        model=\"gpt-4o\",\n",
    "        messages=[\n",
    "            {\n",
    "            \"role\": \"system\",\n",
    "            \"content\": [\n",
    "                {\n",
    "                \"type\": \"text\",\n",
    "                \"text\": \"Buatkan paragraf informasi min.350 karakter, sesuai Materi kelas X, diharapkan dapat membuat tulisan dalam 2-4 paragraf, di masing-masing paragraf terdiri dari 5-8 kalimat. Raw text tanpa bold/italic/markdown. Jelaskan cara membaca dan menulis algoritma menggunakan notasi yang benar dan standar (diagram alir atau pseudokode) sebagai langkah awal sebelum implementasi program.\\n\"\n",
    "                }\n",
    "            ]\n",
    "            }\n",
    "        ],\n",
    "        response_format={\n",
    "            \"type\": \"text\"\n",
    "        },\n",
    "        temperature=1,\n",
    "        max_completion_tokens=16384,\n",
    "        top_p=1,\n",
    "        frequency_penalty=0,\n",
    "        presence_penalty=0,\n",
    "        store=False\n",
    "        )\n",
    "        text_response = response.choices[0].message.content\n",
    "\n",
    "        # Saving the response\n",
    "        print(f\"Essay {i+1} completed\")\n",
    "        responses.append(text_response)\n",
    "        time.sleep(1)\n",
    "\n",
    "    except Exception as e:\n",
    "        print(f\"Terjadi kesalahan pada sesi {i+1}: {e}\")\n",
    "        break\n",
    "\n",
    "os.makedirs(\"datasets\", exist_ok=True)\n",
    "\n",
    "# Save the responses to a CSV file\n",
    "df = pd.DataFrame(responses, columns=[\"Response\"])\n",
    "df[\"Bab\"] = \"Bab 7\"\n",
    "df.to_csv(\"datasets_ta/pengetahuan_gpt_new.csv\", mode='a', header=False, index=False)\n",
    "\n",
    "print(\"Bab 7 berhasil di-append\")"
   ]
  },
  {
   "cell_type": "markdown",
   "id": "2acdf838",
   "metadata": {},
   "source": [
    "## Bab 7, prompt 2"
   ]
  },
  {
   "cell_type": "code",
   "execution_count": 54,
   "id": "67f13ecb",
   "metadata": {},
   "outputs": [
    {
     "name": "stdout",
     "output_type": "stream",
     "text": [
      "Essay 1 completed\n",
      "Essay 2 completed\n",
      "Essay 3 completed\n",
      "Essay 4 completed\n",
      "Essay 5 completed\n",
      "Bab 7 berhasil di-append\n"
     ]
    }
   ],
   "source": [
    "responses = [] \n",
    "for i in range(5):\n",
    "    try:\n",
    "        response = client.chat.completions.create(\n",
    "        model=\"gpt-4o\",\n",
    "        messages=[\n",
    "            {\n",
    "            \"role\": \"system\",\n",
    "            \"content\": [\n",
    "                {\n",
    "                \"type\": \"text\",\n",
    "                \"text\": \"Buatkan paragraf informasi min.350 karakter, sesuai Materi kelas X, diharapkan dapat membuat tulisan dalam 2-4 paragraf, di masing-masing paragraf terdiri dari 5-8 kalimat. Raw text tanpa bold/italic/markdown. Deskripsikan konsep-konsep dasar dalam pemrograman menggunakan Bahasa C, meliputi variabel (deklarasi, inisialisasi), tipe data standar, dan jenis-jenis ekspresi (aritmatika, logika).\\n\"\n",
    "                }\n",
    "            ]\n",
    "            }\n",
    "        ],\n",
    "        response_format={\n",
    "            \"type\": \"text\"\n",
    "        },\n",
    "        temperature=1,\n",
    "        max_completion_tokens=16384,\n",
    "        top_p=1,\n",
    "        frequency_penalty=0,\n",
    "        presence_penalty=0,\n",
    "        store=False\n",
    "        )\n",
    "        text_response = response.choices[0].message.content\n",
    "\n",
    "        # Saving the response\n",
    "        print(f\"Essay {i+1} completed\")\n",
    "        responses.append(text_response)\n",
    "        time.sleep(1)\n",
    "\n",
    "    except Exception as e:\n",
    "        print(f\"Terjadi kesalahan pada sesi {i+1}: {e}\")\n",
    "        break\n",
    "\n",
    "os.makedirs(\"datasets\", exist_ok=True)\n",
    "\n",
    "# Save the responses to a CSV file\n",
    "df = pd.DataFrame(responses, columns=[\"Response\"])\n",
    "df[\"Bab\"] = \"Bab 7\"\n",
    "df.to_csv(\"datasets_ta/pengetahuan_gpt_new.csv\", mode='a', header=False, index=False)\n",
    "\n",
    "print(\"Bab 7 berhasil di-append\")"
   ]
  },
  {
   "cell_type": "markdown",
   "id": "73891f18",
   "metadata": {},
   "source": [
    "## Bab 7, prompt 3"
   ]
  },
  {
   "cell_type": "code",
   "execution_count": 55,
   "id": "7d3a6d41",
   "metadata": {},
   "outputs": [
    {
     "name": "stdout",
     "output_type": "stream",
     "text": [
      "Essay 1 completed\n",
      "Essay 2 completed\n",
      "Essay 3 completed\n",
      "Essay 4 completed\n",
      "Essay 5 completed\n",
      "Bab 7 berhasil di-append\n"
     ]
    }
   ],
   "source": [
    "responses = [] \n",
    "for i in range(5):\n",
    "    try:\n",
    "        response = client.chat.completions.create(\n",
    "        model=\"gpt-4o\",\n",
    "        messages=[\n",
    "            {\n",
    "            \"role\": \"system\",\n",
    "            \"content\": [\n",
    "                {\n",
    "                \"type\": \"text\",\n",
    "                \"text\": \"Buatkan paragraf informasi min.350 karakter, sesuai Materi kelas X, diharapkan dapat membuat tulisan dalam 2-4 paragraf, di masing-masing paragraf terdiri dari 5-8 kalimat. Raw text tanpa bold/italic/markdown. Jelaskan penggunaan struktur kontrol keputusan (misalnya if-else) dan struktur kontrol perulangan (misalnya for, while) dalam Bahasa C, serta konsep fungsi (deklarasi, definisi, pemanggilan) untuk modularitas program, berikan contoh sederhana untuk masing-masing.\\n\"\n",
    "                }\n",
    "            ]\n",
    "            }\n",
    "        ],\n",
    "        response_format={\n",
    "            \"type\": \"text\"\n",
    "        },\n",
    "        temperature=1,\n",
    "        max_completion_tokens=16384,\n",
    "        top_p=1,\n",
    "        frequency_penalty=0,\n",
    "        presence_penalty=0,\n",
    "        store=False\n",
    "        )\n",
    "        text_response = response.choices[0].message.content\n",
    "\n",
    "        # Saving the response\n",
    "        print(f\"Essay {i+1} completed\")\n",
    "        responses.append(text_response)\n",
    "        time.sleep(1)\n",
    "\n",
    "    except Exception as e:\n",
    "        print(f\"Terjadi kesalahan pada sesi {i+1}: {e}\")\n",
    "        break\n",
    "\n",
    "os.makedirs(\"datasets\", exist_ok=True)\n",
    "\n",
    "# Save the responses to a CSV file\n",
    "df = pd.DataFrame(responses, columns=[\"Response\"])\n",
    "df[\"Bab\"] = \"Bab 7\"\n",
    "df.to_csv(\"datasets_ta/pengetahuan_gpt_new.csv\", mode='a', header=False, index=False)\n",
    "\n",
    "print(\"Bab 7 berhasil di-append\")"
   ]
  },
  {
   "cell_type": "markdown",
   "id": "55113deb",
   "metadata": {},
   "source": [
    "# Generate Pengetahuan ChatGPT: Bab 8"
   ]
  },
  {
   "cell_type": "markdown",
   "id": "9e10ded3",
   "metadata": {},
   "source": [
    "## Bab 8, prompt 1"
   ]
  },
  {
   "cell_type": "code",
   "execution_count": 56,
   "id": "b436a34a",
   "metadata": {},
   "outputs": [
    {
     "name": "stdout",
     "output_type": "stream",
     "text": [
      "Essay 1 completed\n",
      "Essay 2 completed\n",
      "Essay 3 completed\n",
      "Essay 4 completed\n",
      "Essay 5 completed\n",
      "Bab 8 berhasil di-append\n"
     ]
    }
   ],
   "source": [
    "responses = [] \n",
    "for i in range(5):\n",
    "    try:\n",
    "        response = client.chat.completions.create(\n",
    "        model=\"gpt-4o\",\n",
    "        messages=[\n",
    "            {\n",
    "            \"role\": \"system\",\n",
    "            \"content\": [\n",
    "                {\n",
    "                \"type\": \"text\",\n",
    "                \"text\": \"Buatkan paragraf informasi min.350 karakter, sesuai Materi kelas X, diharapkan dapat membuat tulisan dalam 2-4 paragraf, di masing-masing paragraf terdiri dari 5-8 kalimat. Raw text tanpa bold/italic/markdown. Rangkum sejarah perkembangan komputer dari generasi awal hingga saat ini, dan sebutkan beberapa tokoh penting yang berperan signifikan dalam evolusi teknologi komputer.\\n\"\n",
    "                }\n",
    "            ]\n",
    "            }\n",
    "        ],\n",
    "        response_format={\n",
    "            \"type\": \"text\"\n",
    "        },\n",
    "        temperature=1,\n",
    "        max_completion_tokens=16384,\n",
    "        top_p=1,\n",
    "        frequency_penalty=0,\n",
    "        presence_penalty=0,\n",
    "        store=False\n",
    "        )\n",
    "        text_response = response.choices[0].message.content\n",
    "\n",
    "        # Saving the response\n",
    "        print(f\"Essay {i+1} completed\")\n",
    "        responses.append(text_response)\n",
    "        time.sleep(1)\n",
    "\n",
    "    except Exception as e:\n",
    "        print(f\"Terjadi kesalahan pada sesi {i+1}: {e}\")\n",
    "        break\n",
    "\n",
    "os.makedirs(\"datasets\", exist_ok=True)\n",
    "\n",
    "# Save the responses to a CSV file\n",
    "df = pd.DataFrame(responses, columns=[\"Response\"])\n",
    "df[\"Bab\"] = \"Bab 8\"\n",
    "df.to_csv(\"datasets_ta/pengetahuan_gpt_new.csv\", mode='a', header=False, index=False)\n",
    "\n",
    "print(\"Bab 8 berhasil di-append\")"
   ]
  },
  {
   "cell_type": "markdown",
   "id": "8d49056b",
   "metadata": {},
   "source": [
    "## Bab 8, prompt 2"
   ]
  },
  {
   "cell_type": "code",
   "execution_count": 57,
   "id": "cbe6d126",
   "metadata": {},
   "outputs": [
    {
     "name": "stdout",
     "output_type": "stream",
     "text": [
      "Essay 1 completed\n",
      "Essay 2 completed\n",
      "Essay 3 completed\n",
      "Essay 4 completed\n",
      "Essay 5 completed\n",
      "Bab 8 berhasil di-append\n"
     ]
    }
   ],
   "source": [
    "responses = [] \n",
    "for i in range(5):\n",
    "    try:\n",
    "        response = client.chat.completions.create(\n",
    "        model=\"gpt-4o\",\n",
    "        messages=[\n",
    "            {\n",
    "            \"role\": \"system\",\n",
    "            \"content\": [\n",
    "                {\n",
    "                \"type\": \"text\",\n",
    "                \"text\": \"Buatkan paragraf informasi min.350 karakter, sesuai Materi kelas X, diharapkan dapat membuat tulisan dalam 2-4 paragraf, di masing-masing paragraf terdiri dari 5-8 kalimat. Raw text tanpa bold/italic/markdown. Diskusikan dampak positif dan negatif perkembangan informatika pada aspek ekonomi (misalnya, model bisnis baru, disrupsi industri, e-commerce) dan aspek hukum (misalnya, HAKI, lisensi perangkat lunak, perlindungan data pribadi, keamanan siber) dalam masyarakat kontemporer.\\n\"\n",
    "                }\n",
    "            ]\n",
    "            }\n",
    "        ],\n",
    "        response_format={\n",
    "            \"type\": \"text\"\n",
    "        },\n",
    "        temperature=1,\n",
    "        max_completion_tokens=16384,\n",
    "        top_p=1,\n",
    "        frequency_penalty=0,\n",
    "        presence_penalty=0,\n",
    "        store=False\n",
    "        )\n",
    "        text_response = response.choices[0].message.content\n",
    "\n",
    "        # Saving the response\n",
    "        print(f\"Essay {i+1} completed\")\n",
    "        responses.append(text_response)\n",
    "        time.sleep(1)\n",
    "\n",
    "    except Exception as e:\n",
    "        print(f\"Terjadi kesalahan pada sesi {i+1}: {e}\")\n",
    "        break\n",
    "\n",
    "os.makedirs(\"datasets\", exist_ok=True)\n",
    "\n",
    "# Save the responses to a CSV file\n",
    "df = pd.DataFrame(responses, columns=[\"Response\"])\n",
    "df[\"Bab\"] = \"Bab 8\"\n",
    "df.to_csv(\"datasets_ta/pengetahuan_gpt_new.csv\", mode='a', header=False, index=False)\n",
    "\n",
    "print(\"Bab 8 berhasil di-append\")"
   ]
  },
  {
   "cell_type": "markdown",
   "id": "8ea4c565",
   "metadata": {},
   "source": [
    "## Bab 8, prompt 3"
   ]
  },
  {
   "cell_type": "code",
   "execution_count": 58,
   "id": "62139031",
   "metadata": {},
   "outputs": [
    {
     "name": "stdout",
     "output_type": "stream",
     "text": [
      "Essay 1 completed\n",
      "Essay 2 completed\n",
      "Essay 3 completed\n",
      "Essay 4 completed\n",
      "Essay 5 completed\n",
      "Bab 8 berhasil di-append\n"
     ]
    }
   ],
   "source": [
    "responses = [] \n",
    "for i in range(5):\n",
    "    try:\n",
    "        response = client.chat.completions.create(\n",
    "        model=\"gpt-4o\",\n",
    "        messages=[\n",
    "            {\n",
    "            \"role\": \"system\",\n",
    "            \"content\": [\n",
    "                {\n",
    "                \"type\": \"text\",\n",
    "                \"text\": \"Buatkan paragraf informasi min.350 karakter, sesuai Materi kelas X, diharapkan dapat membuat tulisan dalam 2-4 paragraf, di masing-masing paragraf terdiri dari 5-8 kalimat. Raw text tanpa bold/italic/markdown. Jelaskan berbagai pilihan studi lanjut dan jalur karier di bidang informatika atau bidang terkait, serta informasi penting yang perlu dipertimbangkan siswa dalam merencanakan masa depan studi dan kariernya.\\n\"\n",
    "                }\n",
    "            ]\n",
    "            }\n",
    "        ],\n",
    "        response_format={\n",
    "            \"type\": \"text\"\n",
    "        },\n",
    "        temperature=1,\n",
    "        max_completion_tokens=16384,\n",
    "        top_p=1,\n",
    "        frequency_penalty=0,\n",
    "        presence_penalty=0,\n",
    "        store=False\n",
    "        )\n",
    "        text_response = response.choices[0].message.content\n",
    "\n",
    "        # Saving the response\n",
    "        print(f\"Essay {i+1} completed\")\n",
    "        responses.append(text_response)\n",
    "        time.sleep(1)\n",
    "\n",
    "    except Exception as e:\n",
    "        print(f\"Terjadi kesalahan pada sesi {i+1}: {e}\")\n",
    "        break\n",
    "\n",
    "os.makedirs(\"datasets\", exist_ok=True)\n",
    "\n",
    "# Save the responses to a CSV file\n",
    "df = pd.DataFrame(responses, columns=[\"Response\"])\n",
    "df[\"Bab\"] = \"Bab 8\"\n",
    "df.to_csv(\"datasets_ta/pengetahuan_gpt_new.csv\", mode='a', header=False, index=False)\n",
    "\n",
    "print(\"Bab 8 berhasil di-append\")"
   ]
  },
  {
   "cell_type": "markdown",
   "id": "876ba6a9",
   "metadata": {},
   "source": [
    "# Generate Pengetahuan ChatGPT: Bab 9"
   ]
  },
  {
   "cell_type": "markdown",
   "id": "e983bc2b",
   "metadata": {},
   "source": [
    "## Bab 9, prompt 1"
   ]
  },
  {
   "cell_type": "code",
   "execution_count": 59,
   "id": "277dbb08",
   "metadata": {},
   "outputs": [
    {
     "name": "stdout",
     "output_type": "stream",
     "text": [
      "Essay 1 completed\n",
      "Essay 2 completed\n",
      "Essay 3 completed\n",
      "Essay 4 completed\n",
      "Essay 5 completed\n",
      "Bab 9 berhasil di-append\n"
     ]
    }
   ],
   "source": [
    "responses = [] \n",
    "for i in range(5):\n",
    "    try:\n",
    "        response = client.chat.completions.create(\n",
    "        model=\"gpt-4o\",\n",
    "        messages=[\n",
    "            {\n",
    "            \"role\": \"system\",\n",
    "            \"content\": [\n",
    "                {\n",
    "                \"type\": \"text\",\n",
    "                \"text\": \"Buatkan paragraf informasi min.350 karakter, sesuai Materi kelas X, diharapkan dapat membuat tulisan dalam 2-4 paragraf, di masing-masing paragraf terdiri dari 5-8 kalimat. Raw text tanpa bold/italic/markdown. Jelaskan tahapan-tahapan penting dalam melaksanakan proyek Praktika Lintas Bidang (PLB), mulai dari pembentukan tim, survei identifikasi masalah, penyusunan rencana kerja, hingga presentasi hasil akhir proyek.\\n\"\n",
    "                }\n",
    "            ]\n",
    "            }\n",
    "        ],\n",
    "        response_format={\n",
    "            \"type\": \"text\"\n",
    "        },\n",
    "        temperature=1,\n",
    "        max_completion_tokens=16384,\n",
    "        top_p=1,\n",
    "        frequency_penalty=0,\n",
    "        presence_penalty=0,\n",
    "        store=False\n",
    "        )\n",
    "        text_response = response.choices[0].message.content\n",
    "\n",
    "        # Saving the response\n",
    "        print(f\"Essay {i+1} completed\")\n",
    "        responses.append(text_response)\n",
    "        time.sleep(1)\n",
    "\n",
    "    except Exception as e:\n",
    "        print(f\"Terjadi kesalahan pada sesi {i+1}: {e}\")\n",
    "        break\n",
    "\n",
    "os.makedirs(\"datasets\", exist_ok=True)\n",
    "\n",
    "# Save the responses to a CSV file\n",
    "df = pd.DataFrame(responses, columns=[\"Response\"])\n",
    "df[\"Bab\"] = \"Bab 9\"\n",
    "df.to_csv(\"datasets_ta/pengetahuan_gpt_new.csv\", mode='a', header=False, index=False)\n",
    "\n",
    "print(\"Bab 9 berhasil di-append\")"
   ]
  },
  {
   "cell_type": "markdown",
   "id": "c368ca74",
   "metadata": {},
   "source": [
    "## Bab 9, prompt 2"
   ]
  },
  {
   "cell_type": "code",
   "execution_count": 60,
   "id": "0c6d6adc",
   "metadata": {},
   "outputs": [
    {
     "name": "stdout",
     "output_type": "stream",
     "text": [
      "Essay 1 completed\n",
      "Essay 2 completed\n",
      "Essay 3 completed\n",
      "Essay 4 completed\n",
      "Essay 5 completed\n",
      "Bab 9 berhasil di-append\n"
     ]
    }
   ],
   "source": [
    "responses = [] \n",
    "for i in range(5):\n",
    "    try:\n",
    "        response = client.chat.completions.create(\n",
    "        model=\"gpt-4o\",\n",
    "        messages=[\n",
    "            {\n",
    "            \"role\": \"system\",\n",
    "            \"content\": [\n",
    "                {\n",
    "                \"type\": \"text\",\n",
    "                \"text\": \"Buatkan paragraf informasi min.350 karakter, sesuai Materi kelas X, diharapkan dapat membuat tulisan dalam 2-4 paragraf, di masing-masing paragraf terdiri dari 5-8 kalimat. Raw text tanpa bold/italic/markdown. Deskripsikan secara detail proses pengembangan artefak komputasional dalam konteks PLB, mencakup kemampuan mengenali dan mendefinisikan persoalan secara jelas, mengembangkan abstraksi untuk memodelkan masalah, membuat desain program sederhana (misalnya, dalam bentuk mock-up atau wireframe menggunakan alat bantu seperti Figma atau PowerPoint), hingga melakukan pengujian fungsionalitas dan dokumentasi teknis.\\n\"\n",
    "                }\n",
    "            ]\n",
    "            }\n",
    "        ],\n",
    "        response_format={\n",
    "            \"type\": \"text\"\n",
    "        },\n",
    "        temperature=1,\n",
    "        max_completion_tokens=16384,\n",
    "        top_p=1,\n",
    "        frequency_penalty=0,\n",
    "        presence_penalty=0,\n",
    "        store=False\n",
    "        )\n",
    "        text_response = response.choices[0].message.content\n",
    "\n",
    "        # Saving the response\n",
    "        print(f\"Essay {i+1} completed\")\n",
    "        responses.append(text_response)\n",
    "        time.sleep(1)\n",
    "\n",
    "    except Exception as e:\n",
    "        print(f\"Terjadi kesalahan pada sesi {i+1}: {e}\")\n",
    "        break\n",
    "\n",
    "os.makedirs(\"datasets\", exist_ok=True)\n",
    "\n",
    "# Save the responses to a CSV file\n",
    "df = pd.DataFrame(responses, columns=[\"Response\"])\n",
    "df[\"Bab\"] = \"Bab 9\"\n",
    "df.to_csv(\"datasets_ta/pengetahuan_gpt_new.csv\", mode='a', header=False, index=False)\n",
    "\n",
    "print(\"Bab 9 berhasil di-append\")"
   ]
  },
  {
   "cell_type": "markdown",
   "id": "819268c1",
   "metadata": {},
   "source": [
    "## Bab 9, prompt 3"
   ]
  },
  {
   "cell_type": "code",
   "execution_count": 61,
   "id": "e942b22e",
   "metadata": {},
   "outputs": [
    {
     "name": "stdout",
     "output_type": "stream",
     "text": [
      "Essay 1 completed\n",
      "Essay 2 completed\n",
      "Essay 3 completed\n",
      "Essay 4 completed\n",
      "Essay 5 completed\n",
      "Bab 9 berhasil di-append\n"
     ]
    }
   ],
   "source": [
    "responses = [] \n",
    "for i in range(5):\n",
    "    try:\n",
    "        response = client.chat.completions.create(\n",
    "        model=\"gpt-4o\",\n",
    "        messages=[\n",
    "            {\n",
    "            \"role\": \"system\",\n",
    "            \"content\": [\n",
    "                {\n",
    "                \"type\": \"text\",\n",
    "                \"text\": \"Buatkan paragraf informasi min.350 karakter, sesuai Materi kelas X, diharapkan dapat membuat tulisan dalam 2-4 paragraf, di masing-masing paragraf terdiri dari 5-8 kalimat. Raw text tanpa bold/italic/markdown. Jelaskan bagaimana siswa sebaiknya mengomunikasikan proses pengembangan, fenomena yang diamati, atau solusi TIK yang mereka hasilkan dalam proyek PLB, termasuk aspek penting dalam presentasi hasil, penggunaan visualisasi data yang efektif, serta pentingnya memperhatikan hak kekayaan intelektual terkait karya yang dihasilkan.\\n\"\n",
    "                }\n",
    "            ]\n",
    "            }\n",
    "        ],\n",
    "        response_format={\n",
    "            \"type\": \"text\"\n",
    "        },\n",
    "        temperature=1,\n",
    "        max_completion_tokens=16384,\n",
    "        top_p=1,\n",
    "        frequency_penalty=0,\n",
    "        presence_penalty=0,\n",
    "        store=False\n",
    "        )\n",
    "        text_response = response.choices[0].message.content\n",
    "\n",
    "        # Saving the response\n",
    "        print(f\"Essay {i+1} completed\")\n",
    "        responses.append(text_response)\n",
    "        time.sleep(1)\n",
    "\n",
    "    except Exception as e:\n",
    "        print(f\"Terjadi kesalahan pada sesi {i+1}: {e}\")\n",
    "        break\n",
    "\n",
    "os.makedirs(\"datasets\", exist_ok=True)\n",
    "\n",
    "# Save the responses to a CSV file\n",
    "df = pd.DataFrame(responses, columns=[\"Response\"])\n",
    "df[\"Bab\"] = \"Bab 9\"\n",
    "df.to_csv(\"datasets_ta/pengetahuan_gpt_new.csv\", mode='a', header=False, index=False)\n",
    "\n",
    "print(\"Bab 9 berhasil di-append\")"
   ]
  },
  {
   "cell_type": "code",
   "execution_count": 62,
   "id": "97e32337",
   "metadata": {},
   "outputs": [],
   "source": [
    "gptset = pd.read_csv(\"datasets_ta/pengetahuan_gpt_new.csv\")"
   ]
  },
  {
   "cell_type": "markdown",
   "id": "b6df3dbc",
   "metadata": {},
   "source": [
    "# Check Information"
   ]
  },
  {
   "cell_type": "code",
   "execution_count": 63,
   "id": "3cc5794c",
   "metadata": {},
   "outputs": [
    {
     "name": "stdout",
     "output_type": "stream",
     "text": [
      "<class 'pandas.core.frame.DataFrame'>\n",
      "RangeIndex: 135 entries, 0 to 134\n",
      "Data columns (total 2 columns):\n",
      " #   Column    Non-Null Count  Dtype \n",
      "---  ------    --------------  ----- \n",
      " 0   Response  135 non-null    object\n",
      " 1   Bab       135 non-null    object\n",
      "dtypes: object(2)\n",
      "memory usage: 2.2+ KB\n"
     ]
    }
   ],
   "source": [
    "gptset.info()"
   ]
  },
  {
   "cell_type": "code",
   "execution_count": 64,
   "id": "3546cfe2",
   "metadata": {},
   "outputs": [
    {
     "name": "stdout",
     "output_type": "stream",
     "text": [
      "The watermark extension is already loaded. To reload it, use:\n",
      "  %reload_ext watermark\n",
      "Last updated: 2025-06-10T13:05:27.619925+07:00\n",
      "\n",
      "Python implementation: CPython\n",
      "Python version       : 3.12.4\n",
      "IPython version      : 8.25.0\n",
      "\n",
      "Compiler    : Clang 14.0.6 \n",
      "OS          : Darwin\n",
      "Release     : 24.0.0\n",
      "Machine     : arm64\n",
      "Processor   : arm\n",
      "CPU cores   : 8\n",
      "Architecture: 64bit\n",
      "\n"
     ]
    }
   ],
   "source": [
    "%load_ext watermark\n",
    "%watermark"
   ]
  }
 ],
 "metadata": {
  "kernelspec": {
   "display_name": "base",
   "language": "python",
   "name": "python3"
  },
  "language_info": {
   "codemirror_mode": {
    "name": "ipython",
    "version": 3
   },
   "file_extension": ".py",
   "mimetype": "text/x-python",
   "name": "python",
   "nbconvert_exporter": "python",
   "pygments_lexer": "ipython3",
   "version": "3.12.4"
  }
 },
 "nbformat": 4,
 "nbformat_minor": 5
}
