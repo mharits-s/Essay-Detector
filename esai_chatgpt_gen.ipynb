{
 "cells": [
  {
   "cell_type": "markdown",
   "id": "f1c420cd",
   "metadata": {},
   "source": [
    "# Load Libraries"
   ]
  },
  {
   "cell_type": "code",
   "execution_count": 1,
   "id": "f4973c71",
   "metadata": {},
   "outputs": [],
   "source": [
    "from openai import OpenAI\n",
    "from dotenv import load_dotenv\n",
    "import pandas as pd\n",
    "import time\n",
    "import os"
   ]
  },
  {
   "cell_type": "markdown",
   "id": "d62b042c",
   "metadata": {},
   "source": [
    "# Load API and Responses"
   ]
  },
  {
   "cell_type": "code",
   "execution_count": 2,
   "id": "a7f5cca0",
   "metadata": {},
   "outputs": [],
   "source": [
    "load_dotenv()\n",
    "api_key = os.getenv(\"API_KEY\")\n",
    "client = OpenAI(api_key=api_key)\n",
    "responses_e24 = []\n",
    "responses_e25 = []"
   ]
  },
  {
   "cell_type": "markdown",
   "id": "4ca11da7",
   "metadata": {},
   "source": [
    "# Generate 10 ChatGPT Essays from 2024 Guidelines"
   ]
  },
  {
   "cell_type": "code",
   "execution_count": 3,
   "id": "9f058294",
   "metadata": {},
   "outputs": [
    {
     "name": "stdout",
     "output_type": "stream",
     "text": [
      "Essay 1 completed\n",
      "Essay 2 completed\n",
      "Essay 3 completed\n",
      "Essay 4 completed\n",
      "Essay 5 completed\n",
      "Essay 6 completed\n",
      "Essay 7 completed\n",
      "Essay 8 completed\n",
      "Essay 9 completed\n",
      "Essay 10 completed\n",
      "Jawaban berhasil disimpan dalam file esai_gpt_24.csv\n"
     ]
    }
   ],
   "source": [
    "for i in range(10):\n",
    "    try:\n",
    "        response = client.chat.completions.create(\n",
    "        model=\"gpt-4o\",\n",
    "        messages=[\n",
    "            {\n",
    "            \"role\": \"system\",\n",
    "            \"content\": [\n",
    "                {\n",
    "                \"type\": \"text\",\n",
    "                \"text\": \" Bayangkan kamu adalah seorang siswa SMA yang sedang mengikuti lomba menulis esai tingkat nasional. Tulis esai secara langsung, dimulai dari judul dan dilanjutkan dengan paragraf-paragraf isi esai. Raw text tanpa bold/italic. Tulis esai sepanjang 20-30 paragraf, masing-masing terdiri dari 3–6 kalimat. Jangan sudahi esai sebelum jumlah paragraf mencukupi.\\nTema umum: Keberagaman sebagai Kunci Meraih Kejayaan dalam Masyarakat Multikultural (Tidak perlu menulis tema ini secara tekstual. Tuangkan makna dan gagasan tema secara kreatif dan kontekstual. Gunakan pendekatan unik agar tidak terkesan kaku.)\\nKetentuan teknis penulisan:\\n* Format tulisan mengikuti: A4, font Times New Roman ukuran 12 pt, spasi 1.5, margin atas 3 cm, bawah 3 cm, kiri 4 cm, kanan 3 cm, rata kanan-kiri (justify)\\n* Panjang esai: 3–5 halaman setara Word atau sekitar 22–30 paragraf (idealnya di atas 25 paragraf)\\n* Gaya bahasa: Bahasa Indonesia yang baik dan benar (sesuai PUEBI), tapi tetap luwes dan komunikatif seperti siswa SMA\\nStruktur penulisan:\\n* Judul (dibuat menarik dan mencerminkan gagasan)\\n* Isi/Naskah Esai (dengan alur berpikir yang jelas, argumentatif, dan mengalir)\\nAspek yang dinilai:\\n* Gagasan orisinil, kreatif, aktual;\\n* Kesesuaian dengan tema;\\n* Penulisan (Kerapihan, Bahasa Indonesia sesuai PUEBI/EYD, kejelasan ungkapan)\\n* Argumentasi\\n* Alur berpikir penulisnya tertib dan jelas (mudah dirunut).\\n* Kemampuan Pengetahuan Bahasa Indonesia\\nLangsung tulis esai lengkap, mulai dari judul yang menarik dan sesuai, diikuti oleh paragraf-paragraf isi esai. \"\n",
    "                }\n",
    "            ]\n",
    "            }\n",
    "        ],\n",
    "        response_format={\n",
    "            \"type\": \"text\"\n",
    "        },\n",
    "        temperature=1,\n",
    "        max_completion_tokens=16384,\n",
    "        top_p=1,\n",
    "        frequency_penalty=0,\n",
    "        presence_penalty=0,\n",
    "        store=False\n",
    "        )\n",
    "        text_response = response.choices[0].message.content\n",
    "\n",
    "        # Saving the response\n",
    "        print(f\"Essay {i+1} completed\")\n",
    "        responses_e24.append(text_response)\n",
    "        time.sleep(1)\n",
    "\n",
    "    except Exception as e:\n",
    "        print(f\"Terjadi kesalahan pada sesi {i+1}: {e}\")\n",
    "        break\n",
    "\n",
    "os.makedirs(\"datasets\", exist_ok=True)\n",
    "\n",
    "# Save the responses to a CSV file\n",
    "df = pd.DataFrame(responses_e24, columns=[\"Response\"])\n",
    "df.to_csv(\"datasets/esai_gpt_24.csv\", index=False)\n",
    "\n",
    "print(\"Jawaban berhasil disimpan dalam file esai_gpt_24.csv\")"
   ]
  },
  {
   "cell_type": "markdown",
   "id": "6a42bca5",
   "metadata": {},
   "source": [
    "# Generate 10 ChatGPT Essays from 2025 Guidelines"
   ]
  },
  {
   "cell_type": "code",
   "execution_count": 4,
   "id": "37e35e84",
   "metadata": {},
   "outputs": [
    {
     "name": "stdout",
     "output_type": "stream",
     "text": [
      "Essay 1 completed\n",
      "Essay 2 completed\n",
      "Essay 3 completed\n",
      "Essay 4 completed\n",
      "Essay 5 completed\n",
      "Essay 6 completed\n",
      "Essay 7 completed\n",
      "Essay 8 completed\n",
      "Essay 9 completed\n",
      "Essay 10 completed\n",
      "Jawaban berhasil disimpan dalam file esai_gpt_25.csv\n"
     ]
    }
   ],
   "source": [
    "for i in range(10):\n",
    "    try:\n",
    "        response = client.chat.completions.create(\n",
    "        model=\"gpt-4o\",\n",
    "        messages=[\n",
    "            {\n",
    "            \"role\": \"system\",\n",
    "            \"content\": [\n",
    "                {\n",
    "                \"type\": \"text\",\n",
    "                \"text\": \"Bayangkan kamu adalah seorang siswa SMA yang sedang mengikuti lomba menulis esai tingkat nasional. Tulis esai secara langsung, dimulai dari judul dan dilanjutkan dengan paragraf-paragraf isi esai. Tulis esai sepanjang 20-30 paragraf, masing-masing terdiri dari 3–6 kalimat. Jangan sudahi esai sebelum jumlah paragraf mencukupi.\\nTema umum: “Hidup Adalah untuk Mengolah Hidup” (Tidak perlu menulis tema ini secara tekstual. Tuangkan makna dan gagasan tema secara kreatif dan kontekstual. Gunakan pendekatan unik agar tidak terkesan kaku.)\\nKetentuan teknis penulisan:\\n* Format tulisan mengikuti: A4, font Times New Roman ukuran 12 pt, spasi 1.5, margin atas 3 cm, bawah 3 cm, kiri 4 cm, kanan 3 cm, rata kanan-kiri (justify)\\n* Panjang esai: 3–5 halaman setara Word.\\n* Gaya bahasa: Bahasa Indonesia yang baik dan benar (sesuai PUEBI), tapi tetap luwes dan komunikatif seperti siswa SMA\\nStruktur penulisan:\\n* Judul (dibuat menarik dan mencerminkan gagasan)\\n* Isi/Naskah Esai (dengan alur berpikir yang jelas, argumentatif, dan mengalir)\\nAspek yang dinilai:\\n* Gagasan orisinil, kreatif, aktual.\\n* Kesesuaian dengan tema.\\n* Kebahasaan (tata bahasa).\\n* Kejelasan dan ketepatan argumen.\\n* Organisasi dan koherensi teks.\\n* Dampak dan keterlibatan pembaca\\n* Kemampuan Pengetahuan Bahasa Indonesia.\\nLangsung tulis esai lengkap, mulai dari judul yang menarik dan sesuai, diikuti oleh paragraf-paragraf isi esai.\\n\\nCatatan:\\nTema diambil dari larik puisi WS Rendra berjudul Sajak Seorang Tua untuk Istrinya. Tidak perlu menuliskan asal tema atau penyairnya dalam esai. Raw text tanpa bold/italic. \\n\"\n",
    "                }\n",
    "            ]\n",
    "            }\n",
    "        ],\n",
    "        response_format={\n",
    "            \"type\": \"text\"\n",
    "        },\n",
    "        temperature=1,\n",
    "        max_completion_tokens=16384,\n",
    "        top_p=1,\n",
    "        frequency_penalty=0,\n",
    "        presence_penalty=0,\n",
    "        store=False\n",
    "        )\n",
    "        text_response = response.choices[0].message.content\n",
    "        \n",
    "        # Saving the response\n",
    "        responses_e25.append(text_response)\n",
    "        print(f\"Essay {i+1} completed\")\n",
    "        time.sleep(1)\n",
    "\n",
    "    except Exception as e:\n",
    "        print(f\"Terjadi kesalahan pada sesi {i+1}: {e}\")\n",
    "        break\n",
    "\n",
    "os.makedirs(\"datasets\", exist_ok=True)\n",
    "\n",
    "# Save the responses to a CSV file\n",
    "df = pd.DataFrame(responses_e25, columns=[\"Response\"])\n",
    "df.to_csv(\"datasets/esai_gpt_25.csv\", index=False)\n",
    "\n",
    "print(\"Jawaban berhasil disimpan dalam file esai_gpt_25.csv\")"
   ]
  },
  {
   "cell_type": "code",
   "execution_count": 5,
   "id": "b6743621",
   "metadata": {},
   "outputs": [
    {
     "name": "stdout",
     "output_type": "stream",
     "text": [
      "Last updated: 2025-05-06T10:25:56.481397+07:00\n",
      "\n",
      "Python implementation: CPython\n",
      "Python version       : 3.12.4\n",
      "IPython version      : 8.25.0\n",
      "\n",
      "Compiler    : Clang 14.0.6 \n",
      "OS          : Darwin\n",
      "Release     : 24.0.0\n",
      "Machine     : arm64\n",
      "Processor   : arm\n",
      "CPU cores   : 8\n",
      "Architecture: 64bit\n",
      "\n"
     ]
    }
   ],
   "source": [
    "%load_ext watermark\n",
    "%watermark"
   ]
  },
  {
   "cell_type": "code",
   "execution_count": 6,
   "id": "79c971e4",
   "metadata": {},
   "outputs": [],
   "source": [
    "gptset_24 = pd.read_csv(\"datasets/esai_gpt_24.csv\")\n",
    "gptset_25 = pd.read_csv(\"datasets/esai_gpt_25.csv\") "
   ]
  },
  {
   "cell_type": "code",
   "execution_count": 9,
   "id": "bec32df8",
   "metadata": {},
   "outputs": [],
   "source": [
    "import re"
   ]
  },
  {
   "cell_type": "code",
   "execution_count": 7,
   "id": "22e5a9b3",
   "metadata": {},
   "outputs": [],
   "source": [
    "def preprocess_gpt(text):\n",
    "    \"\"\"\n",
    "    Preprocessing text:\n",
    "    - Convert text to lowercase\n",
    "    - Cleaning up excess whitespace\n",
    "    - Keeps the text as a whole paragraph\n",
    "    \n",
    "    Args:\n",
    "        text (str): input text.\n",
    "        \n",
    "    Returns:\n",
    "        list: a list of processed text segments (title and paragraphs).\n",
    "    \"\"\"\n",
    "    if not isinstance(text, str) or text.strip() == \"\":\n",
    "        return None\n",
    "\n",
    "    # Split the text into paragraphs\n",
    "    paragraphs = re.split(r'\\n\\s*\\n+', text.strip())\n",
    "    \n",
    "    cleaned_text = []\n",
    "    for para in paragraphs:\n",
    "        para = para.lower().strip()\n",
    "        para = re.sub(r'\\*\\*', '', para)\n",
    "        para = re.sub(r'\\#\\#\\#', '', para)\n",
    "        para = re.sub(r'\\s+', ' ', para)\n",
    "        cleaned_text.append(para)\n",
    "\n",
    "    return cleaned_text\n"
   ]
  },
  {
   "cell_type": "code",
   "execution_count": 10,
   "id": "444d79b8",
   "metadata": {},
   "outputs": [],
   "source": [
    "# Combine both GPT datasets\n",
    "gptset = pd.concat([gptset_24, gptset_25], ignore_index=True)\n",
    "\n",
    "# Process GPT essays and create new dataframe\n",
    "processed_responses = []\n",
    "for text in gptset['Response']:\n",
    "    cleaned = preprocess_gpt(text)\n",
    "    if cleaned:\n",
    "        title = cleaned[0]\n",
    "        processed_responses.append(title)\n",
    "        for paragraph in cleaned[1:]:\n",
    "            processed_responses.append(paragraph)\n",
    "\n",
    "# Create new dataframe with processed text\n",
    "processed_gptset = pd.DataFrame({\n",
    "    'Response': processed_responses\n",
    "})\n",
    "\n",
    "# Save to CSV\n",
    "processed_gptset.to_csv(\"datasets/esai_gpt_24_25.csv\", index=False)\n",
    "\n",
    "# Load the saved dataset\n",
    "gptset = pd.read_csv(\"datasets/esai_gpt_24_25.csv\")"
   ]
  }
 ],
 "metadata": {
  "kernelspec": {
   "display_name": "base",
   "language": "python",
   "name": "python3"
  },
  "language_info": {
   "codemirror_mode": {
    "name": "ipython",
    "version": 3
   },
   "file_extension": ".py",
   "mimetype": "text/x-python",
   "name": "python",
   "nbconvert_exporter": "python",
   "pygments_lexer": "ipython3",
   "version": "3.12.4"
  }
 },
 "nbformat": 4,
 "nbformat_minor": 5
}
