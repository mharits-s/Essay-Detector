{
 "cells": [
  {
   "cell_type": "markdown",
   "id": "f1c420cd",
   "metadata": {},
   "source": [
    "# Load Libraries"
   ]
  },
  {
   "cell_type": "code",
   "execution_count": 1,
   "id": "f4973c71",
   "metadata": {},
   "outputs": [],
   "source": [
    "from openai import OpenAI\n",
    "from dotenv import load_dotenv\n",
    "import pandas as pd\n",
    "import time\n",
    "import os"
   ]
  },
  {
   "cell_type": "markdown",
   "id": "d62b042c",
   "metadata": {},
   "source": [
    "# Load API and Responses"
   ]
  },
  {
   "cell_type": "code",
   "execution_count": 2,
   "id": "a7f5cca0",
   "metadata": {},
   "outputs": [],
   "source": [
    "load_dotenv()\n",
    "api_key = os.getenv(\"API_KEY\")\n",
    "client = OpenAI(api_key=api_key)\n",
    "responses_e24 = []\n",
    "responses_e25 = []"
   ]
  },
  {
   "cell_type": "markdown",
   "id": "4ca11da7",
   "metadata": {},
   "source": [
    "# Generate 10 ChatGPT Essays from 2024 Guidelines"
   ]
  },
  {
   "cell_type": "code",
   "execution_count": 3,
   "id": "9f058294",
   "metadata": {},
   "outputs": [
    {
     "name": "stdout",
     "output_type": "stream",
     "text": [
      "Essay 1 completed\n",
      "Essay 2 completed\n",
      "Essay 3 completed\n",
      "Essay 4 completed\n",
      "Essay 5 completed\n",
      "Essay 6 completed\n",
      "Essay 7 completed\n",
      "Essay 8 completed\n",
      "Essay 9 completed\n",
      "Essay 10 completed\n",
      "Jawaban berhasil disimpan dalam file esai_gpt_24.csv\n"
     ]
    }
   ],
   "source": [
    "for i in range(10):\n",
    "    try:\n",
    "        response = client.chat.completions.create(\n",
    "        model=\"gpt-4o\",\n",
    "        messages=[\n",
    "            {\n",
    "            \"role\": \"system\",\n",
    "            \"content\": [\n",
    "                {\n",
    "                \"text\": \"Bayangkan kamu adalah seorang siswa SMA yang sedang mengikuti lomba menulis esai tingkat nasional. Tulis esai secara langsung, dimulai dari judul dan dilanjutkan dengan paragraf-paragraf isi esai.\\nTema umum: Keberagaman sebagai Kunci Meraih Kejayaan dalam Masyarakat Multikultural (Tidak perlu menulis tema ini secara tekstual. Tuangkan makna dan gagasan tema secara kreatif dan kontekstual. Gunakan pendekatan unik agar tidak terkesan kaku.)\\nKetentuan teknis penulisan:\\n* Format tulisan mengikuti: A4, font Times New Roman ukuran 12 pt, spasi 1.5, margin atas 3 cm, bawah 3 cm, kiri 4 cm, kanan 3 cm, rata kanan-kiri (justify)\\n* Panjang esai: 3–5 halaman setara Word atau sekitar 10–20 paragraf (idealnya di atas 14 paragraf)\\n* Gaya bahasa: Bahasa Indonesia yang baik dan benar (sesuai PUEBI), tapi tetap luwes dan komunikatif seperti siswa SMA\\nStruktur penulisan:\\n* Judul (dibuat menarik dan mencerminkan gagasan)\\n* Isi/Naskah Esai (dengan alur berpikir yang jelas, argumentatif, dan mengalir)\\nAspek yang dinilai:\\n* Gagasan orisinil, kreatif, aktual;\\n* Kesesuaian dengan tema;\\n* Penulisan (Kerapihan, Bahasa Indonesia sesuai PUEBI/EYD, kejelasan ungkapan)\\n* Argumentasi\\n* Alur berpikir penulisnya tertib dan jelas (mudah dirunut).\\n* Kemampuan Pengetahuan Bahasa Indonesia\\nLangsung tulis esai lengkap, mulai dari judul yang menarik dan sesuai, diikuti oleh paragraf-paragraf isi esai.\",\n",
    "                \"type\": \"text\"\n",
    "                }\n",
    "            ]\n",
    "            }\n",
    "        ],\n",
    "        response_format={\n",
    "            \"type\": \"text\"\n",
    "        },\n",
    "        temperature=1,\n",
    "        max_completion_tokens=4096,\n",
    "        top_p=1,\n",
    "        frequency_penalty=0,\n",
    "        presence_penalty=0,\n",
    "        store=False\n",
    "        )\n",
    "        text_response = response.choices[0].message.content\n",
    "        print(f\"Essay {i+1} completed\")\n",
    "        # Menyimpan jawaban\n",
    "        responses_e24.append(text_response)\n",
    "        \n",
    "        time.sleep(1)\n",
    "\n",
    "    except Exception as e:\n",
    "        print(f\"Terjadi kesalahan pada sesi {i+1}: {e}\")\n",
    "        break\n",
    "\n",
    "os.makedirs(\"datasets\", exist_ok=True)\n",
    "\n",
    "# Menyimpan jawaban ke file CSV\n",
    "df = pd.DataFrame(responses_e24, columns=[\"Response\"])\n",
    "df.to_csv(\"datasets/esai_gpt_24.csv\", index=False)\n",
    "\n",
    "print(\"Jawaban berhasil disimpan dalam file esai_gpt_24.csv\")"
   ]
  },
  {
   "cell_type": "markdown",
   "id": "6a42bca5",
   "metadata": {},
   "source": [
    "# Generate 10 ChatGPT Essays from 2025 Guidelines"
   ]
  },
  {
   "cell_type": "code",
   "execution_count": 4,
   "id": "37e35e84",
   "metadata": {},
   "outputs": [
    {
     "name": "stdout",
     "output_type": "stream",
     "text": [
      "Essay 1 completed\n",
      "Essay 2 completed\n",
      "Essay 3 completed\n",
      "Essay 4 completed\n",
      "Essay 5 completed\n",
      "Essay 6 completed\n",
      "Essay 7 completed\n",
      "Essay 8 completed\n",
      "Essay 9 completed\n",
      "Essay 10 completed\n",
      "Jawaban berhasil disimpan dalam file esai_gpt_25.csv\n"
     ]
    }
   ],
   "source": [
    "for i in range(10):\n",
    "    try:\n",
    "        response = client.chat.completions.create(\n",
    "        model=\"gpt-4o\",\n",
    "        messages=[\n",
    "            {\n",
    "            \"role\": \"system\",\n",
    "            \"content\": [\n",
    "                {\n",
    "                \"text\": \"Bayangkan kamu adalah seorang siswa SMA yang sedang mengikuti lomba menulis esai tingkat nasional. Tulis esai secara langsung, dimulai dari judul dan dilanjutkan dengan paragraf-paragraf isi esai.\\nTema umum: “Hidup Adalah untuk Mengolah Hidup” (Tidak perlu menulis tema ini secara tekstual. Tuangkan makna dan gagasan tema secara kreatif dan kontekstual. Gunakan pendekatan unik agar tidak terkesan kaku.)\\nKetentuan teknis penulisan:\\n* Format tulisan mengikuti: A4, font Times New Roman ukuran 12 pt, spasi 1.5, margin atas 3 cm, bawah 3 cm, kiri 4 cm, kanan 3 cm, rata kanan-kiri (justify)\\n* Panjang esai: 3–5 halaman setara Word atau sekitar 10–20 paragraf (idealnya di atas 14 paragraf)\\n* Gaya bahasa: Bahasa Indonesia yang baik dan benar (sesuai PUEBI), tapi tetap luwes dan komunikatif seperti siswa SMA\\nStruktur penulisan:\\n* Judul (dibuat menarik dan mencerminkan gagasan)\\n* Isi/Naskah Esai (dengan alur berpikir yang jelas, argumentatif, dan mengalir)\\nAspek yang dinilai:\\n* Gagasan orisinil, kreatif, aktual.\\n* Kesesuaian dengan tema.\\n* Kebahasaan (tata bahasa).\\n* Kejelasan dan ketepatan argumen.\\n* Organisasi dan koherensi teks.\\n* Dampak dan keterlibatan pembaca\\n* Kemampuan Pengetahuan Bahasa Indonesia.\\nLangsung tulis esai lengkap, mulai dari judul yang menarik dan sesuai, diikuti oleh paragraf-paragraf isi esai.\\n\\nCatatan:\\nTema diambil dari larik puisi WS Rendra berjudul Sajak Seorang Tua untuk Istrinya. Tidak perlu menuliskan asal tema atau penyairnya dalam esai.\",\n",
    "                \"type\": \"text\"\n",
    "                }\n",
    "            ]\n",
    "            }\n",
    "        ],\n",
    "        response_format={\n",
    "            \"type\": \"text\"\n",
    "        },\n",
    "        temperature=1,\n",
    "        max_completion_tokens=4096,\n",
    "        top_p=1,\n",
    "        frequency_penalty=0,\n",
    "        presence_penalty=0,\n",
    "        store=False\n",
    "        )\n",
    "        text_response = response.choices[0].message.content\n",
    "        \n",
    "        # Menyimpan jawaban\n",
    "        responses_e25.append(text_response)\n",
    "        print(f\"Essay {i+1} completed\")\n",
    "        time.sleep(1)\n",
    "\n",
    "    except Exception as e:\n",
    "        print(f\"Terjadi kesalahan pada sesi {i+1}: {e}\")\n",
    "        break\n",
    "\n",
    "os.makedirs(\"datasets\", exist_ok=True)\n",
    "\n",
    "# Menyimpan jawaban ke file CSV\n",
    "df = pd.DataFrame(responses_e25, columns=[\"Response\"])\n",
    "df.to_csv(\"datasets/esai_gpt_25.csv\", index=False)\n",
    "\n",
    "print(\"Jawaban berhasil disimpan dalam file esai_gpt_25.csv\")"
   ]
  },
  {
   "cell_type": "code",
   "execution_count": 5,
   "id": "b6743621",
   "metadata": {},
   "outputs": [
    {
     "name": "stdout",
     "output_type": "stream",
     "text": [
      "Last updated: 2025-05-04T09:41:27.597648+07:00\n",
      "\n",
      "Python implementation: CPython\n",
      "Python version       : 3.12.4\n",
      "IPython version      : 8.25.0\n",
      "\n",
      "Compiler    : Clang 14.0.6 \n",
      "OS          : Darwin\n",
      "Release     : 24.0.0\n",
      "Machine     : arm64\n",
      "Processor   : arm\n",
      "CPU cores   : 8\n",
      "Architecture: 64bit\n",
      "\n"
     ]
    }
   ],
   "source": [
    "%load_ext watermark\n",
    "%watermark"
   ]
  }
 ],
 "metadata": {
  "kernelspec": {
   "display_name": "base",
   "language": "python",
   "name": "python3"
  },
  "language_info": {
   "codemirror_mode": {
    "name": "ipython",
    "version": 3
   },
   "file_extension": ".py",
   "mimetype": "text/x-python",
   "name": "python",
   "nbconvert_exporter": "python",
   "pygments_lexer": "ipython3",
   "version": "3.12.4"
  }
 },
 "nbformat": 4,
 "nbformat_minor": 5
}
