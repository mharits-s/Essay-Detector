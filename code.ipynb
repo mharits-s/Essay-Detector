{
 "cells": [
  {
   "cell_type": "markdown",
   "metadata": {},
   "source": [
    "# Text Similarity using Deep Learning"
   ]
  },
  {
   "cell_type": "markdown",
   "metadata": {},
   "source": [
    "transformers ga support Keras 3, kudu downgrade pake pip install tf-keras"
   ]
  },
  {
   "cell_type": "code",
   "execution_count": 1,
   "metadata": {},
   "outputs": [],
   "source": [
    "import tensorflow as tf\n",
    "from transformers import BertTokenizer, TFBertModel\n",
    "import numpy as np\n",
    "from sklearn.metrics.pairwise import cosine_similarity"
   ]
  },
  {
   "cell_type": "code",
   "execution_count": 2,
   "metadata": {},
   "outputs": [
    {
     "name": "stderr",
     "output_type": "stream",
     "text": [
      "Some layers from the model checkpoint at indobenchmark/indobert-base-p1 were not used when initializing TFBertModel: ['nsp___cls', 'mlm___cls']\n",
      "- This IS expected if you are initializing TFBertModel from the checkpoint of a model trained on another task or with another architecture (e.g. initializing a BertForSequenceClassification model from a BertForPreTraining model).\n",
      "- This IS NOT expected if you are initializing TFBertModel from the checkpoint of a model that you expect to be exactly identical (initializing a BertForSequenceClassification model from a BertForSequenceClassification model).\n",
      "All the layers of TFBertModel were initialized from the model checkpoint at indobenchmark/indobert-base-p1.\n",
      "If your task is similar to the task the model of the checkpoint was trained on, you can already use TFBertModel for predictions without further training.\n"
     ]
    }
   ],
   "source": [
    "# Load pre-trained BERT tokenizer and model\n",
    "model = 'indobenchmark/indobert-base-p1'\n",
    "tokenizer = BertTokenizer.from_pretrained(model)\n",
    "model = TFBertModel.from_pretrained(model)"
   ]
  },
  {
   "cell_type": "code",
   "execution_count": 3,
   "metadata": {},
   "outputs": [
    {
     "name": "stdout",
     "output_type": "stream",
     "text": [
      "Cosine Similarity: 0.9682343006134033\n"
     ]
    }
   ],
   "source": [
    "# Function to tokenize and get embeddings from BERT\n",
    "def get_embeddings(text):\n",
    "    # Tokenize the input text\n",
    "    inputs = tokenizer(text, return_tensors='tf', padding=True, truncation=True, max_length=128)\n",
    "    \n",
    "    # Get BERT embeddings\n",
    "    outputs = model(inputs)\n",
    "    \n",
    "    # Use the last hidden state of the [CLS] token for sentence-level embeddings\n",
    "    cls_embeddings = outputs.last_hidden_state[:, 0, :]\n",
    "    \n",
    "    return cls_embeddings\n",
    "\n",
    "# Function to calculate cosine similarity between two embeddings\n",
    "def calculate_similarity(text1, text2):\n",
    "    # Get embeddings for both texts\n",
    "    embeddings1 = get_embeddings(text1)\n",
    "    embeddings2 = get_embeddings(text2)\n",
    "    \n",
    "    # Convert embeddings to numpy arrays\n",
    "    embeddings1 = embeddings1.numpy()\n",
    "    embeddings2 = embeddings2.numpy()\n",
    "    \n",
    "    # Calculate cosine similarity\n",
    "    similarity = cosine_similarity(embeddings1, embeddings2)\n",
    "    \n",
    "    return similarity[0][0]\n",
    "\n",
    "# Example usage\n",
    "text1 = \"Rubah cokelat yang cepat melompati anjing yang malas.\"\n",
    "text2 = \"Seekor hewan cokelat yang cepat melompati anjing yang sedang tidur.\"\n",
    "\n",
    "similarity_score = calculate_similarity(text1, text2)\n",
    "print(f\"Cosine Similarity: {similarity_score}\")"
   ]
  }
 ],
 "metadata": {
  "kernelspec": {
   "display_name": "base",
   "language": "python",
   "name": "python3"
  },
  "language_info": {
   "codemirror_mode": {
    "name": "ipython",
    "version": 3
   },
   "file_extension": ".py",
   "mimetype": "text/x-python",
   "name": "python",
   "nbconvert_exporter": "python",
   "pygments_lexer": "ipython3",
   "version": "3.12.4"
  }
 },
 "nbformat": 4,
 "nbformat_minor": 2
}
