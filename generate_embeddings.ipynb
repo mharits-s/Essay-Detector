{
 "cells": [
  {
   "cell_type": "code",
   "execution_count": 1,
   "id": "5ada90e9",
   "metadata": {},
   "outputs": [
    {
     "name": "stderr",
     "output_type": "stream",
     "text": [
      "2025-06-08 12:36:54.725369: I tensorflow/core/util/port.cc:153] oneDNN custom operations are on. You may see slightly different numerical results due to floating-point round-off errors from different computation orders. To turn them off, set the environment variable `TF_ENABLE_ONEDNN_OPTS=0`.\n",
      "2025-06-08 12:36:55.055144: E external/local_xla/xla/stream_executor/cuda/cuda_fft.cc:467] Unable to register cuFFT factory: Attempting to register factory for plugin cuFFT when one has already been registered\n",
      "WARNING: All log messages before absl::InitializeLog() is called are written to STDERR\n",
      "E0000 00:00:1749361015.166676    1019 cuda_dnn.cc:8579] Unable to register cuDNN factory: Attempting to register factory for plugin cuDNN when one has already been registered\n",
      "E0000 00:00:1749361015.198070    1019 cuda_blas.cc:1407] Unable to register cuBLAS factory: Attempting to register factory for plugin cuBLAS when one has already been registered\n",
      "W0000 00:00:1749361015.457899    1019 computation_placer.cc:177] computation placer already registered. Please check linkage and avoid linking the same target more than once.\n",
      "W0000 00:00:1749361015.457930    1019 computation_placer.cc:177] computation placer already registered. Please check linkage and avoid linking the same target more than once.\n",
      "W0000 00:00:1749361015.457941    1019 computation_placer.cc:177] computation placer already registered. Please check linkage and avoid linking the same target more than once.\n",
      "W0000 00:00:1749361015.457942    1019 computation_placer.cc:177] computation placer already registered. Please check linkage and avoid linking the same target more than once.\n",
      "2025-06-08 12:36:55.486853: I tensorflow/core/platform/cpu_feature_guard.cc:210] This TensorFlow binary is optimized to use available CPU instructions in performance-critical operations.\n",
      "To enable the following instructions: AVX2 AVX_VNNI FMA, in other operations, rebuild TensorFlow with the appropriate compiler flags.\n"
     ]
    }
   ],
   "source": [
    "# ------------------------------------------------------------\n",
    "# 📒 1. Persiapan: impor pustaka & set path\n",
    "# ------------------------------------------------------------\n",
    "import os, pickle, gc, json, tensorflow as tf\n",
    "import numpy as np\n",
    "from transformers import BertTokenizer, TFBertModel\n",
    "\n",
    "SEN_DIR = \"ta_sentence_2\"\n",
    "PAR_DIR = \"ta_paragraph_2\"\n",
    "\n",
    "tok_sen_path   = os.path.join(SEN_DIR, \"tokenizer\")\n",
    "tok_par_path   = os.path.join(PAR_DIR, \"tokenizer\")\n",
    "sem_sen_model  = os.path.join(SEN_DIR, \"semantic_model.h5\")\n",
    "sem_par_model  = os.path.join(PAR_DIR, \"semantic_model.h5\")\n",
    "\n",
    "tokdata_sen_pkl = os.path.join(SEN_DIR, \"tokenized_data.pkl\")\n",
    "tokdata_par_pkl = os.path.join(PAR_DIR, \"tokenized_data.pkl\")\n",
    "\n",
    "sen_ref_pkl = os.path.join(SEN_DIR, \"reference_embeddings.pkl\")\n",
    "par_ref_pkl = os.path.join(PAR_DIR, \"reference_embeddings.pkl\")\n"
   ]
  },
  {
   "cell_type": "code",
   "execution_count": 2,
   "id": "e95da8b9",
   "metadata": {},
   "outputs": [
    {
     "name": "stdout",
     "output_type": "stream",
     "text": [
      "Memuat tokenizer & model…\n"
     ]
    },
    {
     "name": "stderr",
     "output_type": "stream",
     "text": [
      "I0000 00:00:1749361020.444112    1019 gpu_device.cc:2019] Created device /job:localhost/replica:0/task:0/device:GPU:0 with 5529 MB memory:  -> device: 0, name: NVIDIA GeForce RTX 4060 Ti, pci bus id: 0000:01:00.0, compute capability: 8.9\n"
     ]
    },
    {
     "name": "stdout",
     "output_type": "stream",
     "text": [
      "AttributeError: module 'ml_dtypes' has no attribute 'float4_e2m1fn'\n",
      "WARNING:tensorflow:No training configuration found in the save file, so the model was *not* compiled. Compile it manually.\n",
      "WARNING:tensorflow:No training configuration found in the save file, so the model was *not* compiled. Compile it manually.\n"
     ]
    }
   ],
   "source": [
    "# ------------------------------------------------------------\n",
    "# 📒 2. Load tokenizer & model\n",
    "# ------------------------------------------------------------\n",
    "print(\"Memuat tokenizer & model…\")\n",
    "tokenizer_sen = BertTokenizer.from_pretrained(tok_sen_path)\n",
    "tokenizer_par = BertTokenizer.from_pretrained(tok_par_path)\n",
    "\n",
    "# Karena model berisi layer custom TFBertModel, daftarkan pada scope\n",
    "with tf.keras.utils.custom_object_scope({'TFBertModel': TFBertModel}):\n",
    "    semantic_sen = tf.keras.models.load_model(sem_sen_model)\n",
    "    semantic_par = tf.keras.models.load_model(sem_par_model)\n"
   ]
  },
  {
   "cell_type": "code",
   "execution_count": 3,
   "id": "f3b7177c",
   "metadata": {},
   "outputs": [],
   "source": [
    "def gen_emb(tokens, model, batch_size=32):\n",
    "        \"\"\"\n",
    "        Optimized embedding generation with larger batch size and better memory management.\n",
    "        \"\"\"\n",
    "        \n",
    "        embeddings = []\n",
    "        num_samples = len(tokens['input_ids'])\n",
    "        \n",
    "        # Use larger batch size for better GPU utilization\n",
    "        for i in range(0, num_samples, batch_size):\n",
    "            end_idx = min(i + batch_size, num_samples)\n",
    "            \n",
    "            batch_input_ids = tokens['input_ids'][i:end_idx]\n",
    "            batch_attention_mask = tokens['attention_mask'][i:end_idx]\n",
    "            \n",
    "            # Generate embeddings for batch\n",
    "            batch_embeddings = model([batch_input_ids, batch_attention_mask])\n",
    "            embeddings.append(batch_embeddings.numpy())\n",
    "            \n",
    "            # Clear memory periodically\n",
    "            if i % (batch_size * 10) == 0:\n",
    "                tf.keras.backend.clear_session()\n",
    "        \n",
    "        result = np.concatenate(embeddings, axis=0)\n",
    "        return result"
   ]
  },
  {
   "cell_type": "code",
   "execution_count": 4,
   "id": "f72bdbb3",
   "metadata": {},
   "outputs": [
    {
     "name": "stdout",
     "output_type": "stream",
     "text": [
      "Memuat tokenized_data…\n",
      "⏳ Menghitung embedding kalimat…\n",
      "⏳ Menghitung embedding paragraf…\n"
     ]
    },
    {
     "data": {
      "text/plain": [
       "18955"
      ]
     },
     "execution_count": 4,
     "metadata": {},
     "output_type": "execute_result"
    }
   ],
   "source": [
    "# ------------------------------------------------------------\n",
    "# 📒 4. Load tokenized_data.pkl & hitung embedding\n",
    "# ------------------------------------------------------------\n",
    "def load_pickle(path):\n",
    "    with open(path, \"rb\") as f:\n",
    "        return pickle.load(f)\n",
    "\n",
    "print(\"Memuat tokenized_data…\")\n",
    "tokdata_sen = load_pickle(tokdata_sen_pkl)\n",
    "tokdata_par = load_pickle(tokdata_par_pkl)\n",
    "\n",
    "# -------- Sentence level --------\n",
    "print(\"⏳ Menghitung embedding kalimat…\")\n",
    "emb_std_sen  = gen_emb(tokdata_sen[\"student_essay\"],     semantic_sen)\n",
    "emb_gpt1_sen = gen_emb(tokdata_sen[\"chatgpt_essay\"],     semantic_sen)\n",
    "emb_gpt2_sen = gen_emb(tokdata_sen[\"chatgpt_knowledge\"], semantic_sen)\n",
    "\n",
    "# -------- Paragraph level --------\n",
    "print(\"⏳ Menghitung embedding paragraf…\")\n",
    "emb_std_par  = gen_emb(tokdata_par[\"student_essay\"],     semantic_par)\n",
    "emb_gpt1_par = gen_emb(tokdata_par[\"chatgpt_essay\"],     semantic_par)\n",
    "emb_gpt2_par = gen_emb(tokdata_par[\"chatgpt_knowledge\"], semantic_par)\n",
    "\n",
    "# Bebaskan VRAM/CPU RAM\n",
    "del tokdata_sen, tokdata_par\n",
    "gc.collect()\n"
   ]
  },
  {
   "cell_type": "code",
   "execution_count": 5,
   "id": "e0068caf",
   "metadata": {},
   "outputs": [
    {
     "name": "stdout",
     "output_type": "stream",
     "text": [
      "✅ Sentence Selesai! File tersimpan di: ta_sentence_2/reference_embeddings.pkl\n",
      "✅ Paragraph Selesai! File tersimpan di: ta_paragraph_2/reference_embeddings.pkl\n"
     ]
    }
   ],
   "source": [
    "# ------------------------------------------------------------\n",
    "# 📒 5. Simpan ke reference_embeddings.pkl\n",
    "# ------------------------------------------------------------\n",
    "sen_emb_dict = {\n",
    "    # sentence level\n",
    "    \"embeddings_std_sen\":   emb_std_sen,\n",
    "    \"embeddings_gpt1_sen\":  emb_gpt1_sen,\n",
    "    \"embeddings_gpt2_sen\":  emb_gpt2_sen\n",
    "}\n",
    "\n",
    "par_emb_dict = {\n",
    "    # paragraph level\n",
    "    \"embeddings_std_par\":   emb_std_par,\n",
    "    \"embeddings_gpt1_par\":  emb_gpt1_par,\n",
    "    \"embeddings_gpt2_par\":  emb_gpt2_par\n",
    "}\n",
    "\n",
    "\n",
    "# Simpan embedding kalimat\n",
    "sen_path = os.path.join(SEN_DIR, \"reference_embeddings.pkl\")\n",
    "with open(sen_path, \"wb\") as f:\n",
    "    pickle.dump(sen_emb_dict, f)\n",
    "print(f\"✅ Sentence Selesai! File tersimpan di: {sen_path}\")\n",
    "\n",
    "# Simpan embedding paragraf\n",
    "par_path = os.path.join(PAR_DIR, \"reference_embeddings.pkl\")\n",
    "with open(par_path, \"wb\") as f:\n",
    "    pickle.dump(par_emb_dict, f)\n",
    "print(f\"✅ Paragraph Selesai! File tersimpan di: {par_path}\")\n",
    "\n"
   ]
  },
  {
   "cell_type": "code",
   "execution_count": 7,
   "id": "63decdc3",
   "metadata": {},
   "outputs": [
    {
     "name": "stdout",
     "output_type": "stream",
     "text": [
      "embeddings_std_sen       : (1023, 128)\n",
      "embeddings_gpt1_sen      : (2115, 128)\n",
      "embeddings_gpt2_sen      : (31664, 128)\n",
      "embeddings_std_par       : (441, 256)\n",
      "embeddings_gpt1_par      : (539, 256)\n",
      "embeddings_gpt2_par      : (7344, 256)\n"
     ]
    }
   ],
   "source": [
    "# ------------------------------------------------------------\n",
    "# 📒 6. (Opsional) Verifikasi cepat\n",
    "# ------------------------------------------------------------\n",
    "with open(sen_path, \"rb\") as f:\n",
    "    data = pickle.load(f)\n",
    "for k, v in data.items():\n",
    "    print(f\"{k:25s}: {v.shape}\")\n",
    "\n",
    "with open(par_path, \"rb\") as f:\n",
    "    data = pickle.load(f)\n",
    "for k, v in data.items():\n",
    "    print(f\"{k:25s}: {v.shape}\")\n"
   ]
  }
 ],
 "metadata": {
  "kernelspec": {
   "display_name": "base",
   "language": "python",
   "name": "python3"
  },
  "language_info": {
   "codemirror_mode": {
    "name": "ipython",
    "version": 3
   },
   "file_extension": ".py",
   "mimetype": "text/x-python",
   "name": "python",
   "nbconvert_exporter": "python",
   "pygments_lexer": "ipython3",
   "version": "3.12.7"
  }
 },
 "nbformat": 4,
 "nbformat_minor": 5
}
